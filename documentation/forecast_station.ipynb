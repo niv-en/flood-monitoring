{
 "cells": [
  {
   "cell_type": "markdown",
   "id": "b9090d29-b72f-4b78-9eea-1d3d57134a4a",
   "metadata": {},
   "source": [
    "# Forecast Station Notebook "
   ]
  },
  {
   "cell_type": "markdown",
   "id": "c87ec004-2adb-4f55-9e20-fc7086e51741",
   "metadata": {},
   "source": [
    "`Forecast` inherits from `station` in order to reuse some attributes but it is not necessarily a particular station type. Rather `Forecast` is a class which aims to provide the ability to forecast metrics using a simple autoregressive linear model. "
   ]
  },
  {
   "cell_type": "markdown",
   "id": "a2a62881-2524-48f0-a045-13ece30f692c",
   "metadata": {},
   "source": [
    "## Initialisation "
   ]
  },
  {
   "cell_type": "code",
   "execution_count": 1,
   "id": "5c73b006-b7f5-41d0-815d-8469343eb93f",
   "metadata": {},
   "outputs": [],
   "source": [
    "from flood_monitoring import Forecast, station "
   ]
  },
  {
   "cell_type": "code",
   "execution_count": 2,
   "id": "e480f019-de8f-46b3-9f57-379f77154c4f",
   "metadata": {},
   "outputs": [],
   "source": [
    "forecast = Forecast() "
   ]
  },
  {
   "cell_type": "markdown",
   "id": "bdb2f827-87cc-4a87-97ed-67c8b8550c90",
   "metadata": {},
   "source": [
    "## Attributes "
   ]
  },
  {
   "cell_type": "markdown",
   "id": "4541a35b-51ff-4147-bfeb-9ded627d3a67",
   "metadata": {},
   "source": [
    "After fitting our model a `model` attribute is appended to the `ForecastStation` object. "
   ]
  },
  {
   "cell_type": "markdown",
   "id": "32ecf3d1-86fb-40d6-81f3-82a459aed007",
   "metadata": {},
   "source": [
    "# Methods "
   ]
  },
  {
   "cell_type": "markdown",
   "id": "60bbd6c7-d9a2-4900-a503-bbe38aab140f",
   "metadata": {},
   "source": [
    "### `load_data` "
   ]
  },
  {
   "cell_type": "markdown",
   "id": "7c18ba23-8592-42ea-84da-bc3ec51518f6",
   "metadata": {},
   "source": [
    "`load_data` which takes in a measure_notation and a date range and provides all of the readings back as a Pandas DataFrame. `load_data` usings `get_readings` method inherited from the `station` class to perform the API call and then transforms the result into a DataFrame. "
   ]
  },
  {
   "cell_type": "code",
   "execution_count": 13,
   "id": "3ca6e63b-b475-4496-a247-df361db72559",
   "metadata": {},
   "outputs": [],
   "source": [
    "measure = station.measure_dclass(\n",
    "    notation = '1412-temperature-dry_bulb-i-1_h-deg_C',\n",
    "    parameter = 'temperature', \n",
    "    qualifier = 'Dry Blub',\n",
    "    units = 'deg C', \n",
    "    value_type = '') "
   ]
  },
  {
   "cell_type": "code",
   "execution_count": 14,
   "id": "39182660-d3e4-4f18-bab7-05fea17142c0",
   "metadata": {},
   "outputs": [],
   "source": [
    "readings_df = forecast.load_data(measure.notation, date_range = ['2025-05-20', '2025-06-06']) "
   ]
  },
  {
   "cell_type": "markdown",
   "id": "506a758b-707f-4f5b-806a-acb92371f3e1",
   "metadata": {},
   "source": [
    "Pritning the first 5 rows of the readings dataframe. "
   ]
  },
  {
   "cell_type": "code",
   "execution_count": 15,
   "id": "0fb9849b-6114-4371-bf94-67afc128a29a",
   "metadata": {},
   "outputs": [
    {
     "data": {
      "text/html": [
       "<div>\n",
       "<style scoped>\n",
       "    .dataframe tbody tr th:only-of-type {\n",
       "        vertical-align: middle;\n",
       "    }\n",
       "\n",
       "    .dataframe tbody tr th {\n",
       "        vertical-align: top;\n",
       "    }\n",
       "\n",
       "    .dataframe thead th {\n",
       "        text-align: right;\n",
       "    }\n",
       "</style>\n",
       "<table border=\"1\" class=\"dataframe\">\n",
       "  <thead>\n",
       "    <tr style=\"text-align: right;\">\n",
       "      <th></th>\n",
       "      <th>dateTime</th>\n",
       "      <th>measure</th>\n",
       "      <th>value</th>\n",
       "    </tr>\n",
       "  </thead>\n",
       "  <tbody>\n",
       "    <tr>\n",
       "      <th>0</th>\n",
       "      <td>2025-05-20T00:00:00Z</td>\n",
       "      <td>http://environment.data.gov.uk/flood-monitorin...</td>\n",
       "      <td>10.9</td>\n",
       "    </tr>\n",
       "    <tr>\n",
       "      <th>1</th>\n",
       "      <td>2025-05-20T01:00:00Z</td>\n",
       "      <td>http://environment.data.gov.uk/flood-monitorin...</td>\n",
       "      <td>10.3</td>\n",
       "    </tr>\n",
       "    <tr>\n",
       "      <th>2</th>\n",
       "      <td>2025-05-20T02:00:00Z</td>\n",
       "      <td>http://environment.data.gov.uk/flood-monitorin...</td>\n",
       "      <td>9.8</td>\n",
       "    </tr>\n",
       "    <tr>\n",
       "      <th>3</th>\n",
       "      <td>2025-05-20T03:00:00Z</td>\n",
       "      <td>http://environment.data.gov.uk/flood-monitorin...</td>\n",
       "      <td>9.4</td>\n",
       "    </tr>\n",
       "    <tr>\n",
       "      <th>4</th>\n",
       "      <td>2025-05-20T04:00:00Z</td>\n",
       "      <td>http://environment.data.gov.uk/flood-monitorin...</td>\n",
       "      <td>9.4</td>\n",
       "    </tr>\n",
       "  </tbody>\n",
       "</table>\n",
       "</div>"
      ],
      "text/plain": [
       "               dateTime                                            measure  \\\n",
       "0  2025-05-20T00:00:00Z  http://environment.data.gov.uk/flood-monitorin...   \n",
       "1  2025-05-20T01:00:00Z  http://environment.data.gov.uk/flood-monitorin...   \n",
       "2  2025-05-20T02:00:00Z  http://environment.data.gov.uk/flood-monitorin...   \n",
       "3  2025-05-20T03:00:00Z  http://environment.data.gov.uk/flood-monitorin...   \n",
       "4  2025-05-20T04:00:00Z  http://environment.data.gov.uk/flood-monitorin...   \n",
       "\n",
       "   value  \n",
       "0   10.9  \n",
       "1   10.3  \n",
       "2    9.8  \n",
       "3    9.4  \n",
       "4    9.4  "
      ]
     },
     "execution_count": 15,
     "metadata": {},
     "output_type": "execute_result"
    }
   ],
   "source": [
    "readings_df.head() "
   ]
  },
  {
   "cell_type": "markdown",
   "id": "06871e98-ce93-48a5-9b01-98df252e17ba",
   "metadata": {},
   "source": [
    "### `transfom_data` "
   ]
  },
  {
   "cell_type": "code",
   "execution_count": 11,
   "id": "57f7d9b5-3c25-41b6-8994-05cd86c1e592",
   "metadata": {},
   "outputs": [
    {
     "name": "stdout",
     "output_type": "stream",
     "text": [
      "Help on function transform_data in module flood_monitoring.forecast:\n",
      "\n",
      "transform_data(dataframe: pandas.core.frame.DataFrame, lag_features: int, evaluation_split: bool = False, split_date: str | None = None, split_size: int = 5) -> tuple\n",
      "    Transforms the dataframe which stores the measure readings into training/testing arrays which are then\n",
      "    used to fit our Linear Regression model to. \n",
      "    \n",
      "    Inputs: \n",
      "    \n",
      "        dataframe [pd.DataFrame] - DataFrame storing the readings retrieved from load_data\n",
      "        lag_features [int]       - Defines the number of lag features which should be created \n",
      "        evaluation_split [bool]  - Boolean flag defining whether or not the arrays should be split into training and testing sets \n",
      "        split_date [str]         - Optional parameter if evaluation_split is True, split_date defines point where the train/test datasets are split\n",
      "        split_size [int]         - if evaluation_split is True, split_size defines how many of the last n values should be placed in the test set . \n",
      "                                   An alternative to split_date which allows you to create a test split of a particular size. \n",
      "    \n",
      "    Output: \n",
      "    \n",
      "        if evaluation_split is False\n",
      "        \n",
      "            X [np.ndarray] - array storing the feature matrix \n",
      "            y [np.ndarray] - array storing the target variable \n",
      "    \n",
      "        if evaluation_split is True\n",
      "    \n",
      "            train_x [np.ndarray]         -  array storing the feature matrix for the training set\n",
      "            train_y [np.ndarray]         -  array storing the target variable for the training set \n",
      "            test_x  [np.ndarray]         -  array stores the last n observations in the trainig set, defined by lag_features \n",
      "            test_y  [np.ndarray]         -  array storing the target variable for the test set \n",
      "            test_timestamps [np.ndarray] -  array storing the timestamps of the values in test_y\n",
      "\n"
     ]
    }
   ],
   "source": [
    "help(forecast.transform_data)"
   ]
  },
  {
   "cell_type": "code",
   "execution_count": 6,
   "id": "b202a358-69db-45f8-8399-dd9be37615ed",
   "metadata": {},
   "outputs": [],
   "source": [
    "X,y = forecast.transform_data(readings_df, lag_features = 3 ) "
   ]
  },
  {
   "cell_type": "code",
   "execution_count": 16,
   "id": "45a4b581-6e18-42d5-9605-7511b406084c",
   "metadata": {},
   "outputs": [
    {
     "data": {
      "text/plain": [
       "(429, 3)"
      ]
     },
     "execution_count": 16,
     "metadata": {},
     "output_type": "execute_result"
    }
   ],
   "source": [
    "X.shape "
   ]
  },
  {
   "cell_type": "markdown",
   "id": "05a84f74-b3a3-4a8a-ba49-3d777c5f849d",
   "metadata": {},
   "source": [
    "17 is the number of samples and 3 is number of previous values in each sample which we defined to be 3. "
   ]
  },
  {
   "cell_type": "markdown",
   "id": "fba377d7-a523-4ed8-af58-88d1529ecade",
   "metadata": {},
   "source": [
    "Calling the function again with `evaluation_split` set to True and `split_size` set to 20 "
   ]
  },
  {
   "cell_type": "code",
   "execution_count": 17,
   "id": "c0d7aaec-3cb5-4c4f-ba1f-09b40ff108e1",
   "metadata": {},
   "outputs": [],
   "source": [
    "x_train, y_train, x_test, y_test, test_timestamps  = forecast.transform_data(readings_df, lag_features = 3, evaluation_split = True, split_size = 5) "
   ]
  },
  {
   "cell_type": "markdown",
   "id": "c7ea1d6d-fc0a-4ca3-bded-91292cc4b318",
   "metadata": {},
   "source": [
    "Where `x_test` stores the last 3 values inside of the training data, as they will be used to forecast into the test set "
   ]
  },
  {
   "cell_type": "code",
   "execution_count": 18,
   "id": "378738f1-dc2e-45cf-880f-525592c53d36",
   "metadata": {},
   "outputs": [
    {
     "data": {
      "text/plain": [
       "array([10.4, 10.7,  9.9])"
      ]
     },
     "execution_count": 18,
     "metadata": {},
     "output_type": "execute_result"
    }
   ],
   "source": [
    "x_test"
   ]
  },
  {
   "cell_type": "markdown",
   "id": "a7cefb59-9bd4-45f4-b280-00b78dc59833",
   "metadata": {},
   "source": [
    "`test_timestamps` stores the timestamps of the values within our test set"
   ]
  },
  {
   "cell_type": "code",
   "execution_count": 19,
   "id": "9008f787-4714-4fbf-9b5e-ed26c2345228",
   "metadata": {},
   "outputs": [
    {
     "data": {
      "text/plain": [
       "array(['2025-05-20T07:00:00Z', '2025-05-20T06:00:00Z',\n",
       "       '2025-05-20T05:00:00Z', '2025-05-20T04:00:00Z',\n",
       "       '2025-05-20T03:00:00Z'], dtype=object)"
      ]
     },
     "execution_count": 19,
     "metadata": {},
     "output_type": "execute_result"
    }
   ],
   "source": [
    "test_timestamps "
   ]
  },
  {
   "cell_type": "markdown",
   "id": "ec4bd8e8-32da-4cba-87f4-cf1589418842",
   "metadata": {},
   "source": [
    "### `fit`"
   ]
  },
  {
   "cell_type": "markdown",
   "id": "c3e25b0a-58a6-4f21-9657-b7a489c82c92",
   "metadata": {},
   "source": [
    "Calling `fit` instantiates and fits an scikit-learn `LinearRegression` Model to the X,y parameters passed to the method "
   ]
  },
  {
   "cell_type": "code",
   "execution_count": 20,
   "id": "d501710d-2533-4eb9-8fbe-6dab7709f5c5",
   "metadata": {},
   "outputs": [],
   "source": [
    "forecast.fit(x_train, y_train)"
   ]
  },
  {
   "cell_type": "markdown",
   "id": "e50b2e55-620d-4fa9-87c8-ee68a5fdec0e",
   "metadata": {},
   "source": [
    "accessing the model attribute, set after `fit` "
   ]
  },
  {
   "cell_type": "code",
   "execution_count": 21,
   "id": "e2c2e501-f5b3-49d9-b13e-f4a09bbcc7e2",
   "metadata": {},
   "outputs": [
    {
     "data": {
      "text/html": [
       "<style>#sk-container-id-1 {\n",
       "  /* Definition of color scheme common for light and dark mode */\n",
       "  --sklearn-color-text: #000;\n",
       "  --sklearn-color-text-muted: #666;\n",
       "  --sklearn-color-line: gray;\n",
       "  /* Definition of color scheme for unfitted estimators */\n",
       "  --sklearn-color-unfitted-level-0: #fff5e6;\n",
       "  --sklearn-color-unfitted-level-1: #f6e4d2;\n",
       "  --sklearn-color-unfitted-level-2: #ffe0b3;\n",
       "  --sklearn-color-unfitted-level-3: chocolate;\n",
       "  /* Definition of color scheme for fitted estimators */\n",
       "  --sklearn-color-fitted-level-0: #f0f8ff;\n",
       "  --sklearn-color-fitted-level-1: #d4ebff;\n",
       "  --sklearn-color-fitted-level-2: #b3dbfd;\n",
       "  --sklearn-color-fitted-level-3: cornflowerblue;\n",
       "\n",
       "  /* Specific color for light theme */\n",
       "  --sklearn-color-text-on-default-background: var(--sg-text-color, var(--theme-code-foreground, var(--jp-content-font-color1, black)));\n",
       "  --sklearn-color-background: var(--sg-background-color, var(--theme-background, var(--jp-layout-color0, white)));\n",
       "  --sklearn-color-border-box: var(--sg-text-color, var(--theme-code-foreground, var(--jp-content-font-color1, black)));\n",
       "  --sklearn-color-icon: #696969;\n",
       "\n",
       "  @media (prefers-color-scheme: dark) {\n",
       "    /* Redefinition of color scheme for dark theme */\n",
       "    --sklearn-color-text-on-default-background: var(--sg-text-color, var(--theme-code-foreground, var(--jp-content-font-color1, white)));\n",
       "    --sklearn-color-background: var(--sg-background-color, var(--theme-background, var(--jp-layout-color0, #111)));\n",
       "    --sklearn-color-border-box: var(--sg-text-color, var(--theme-code-foreground, var(--jp-content-font-color1, white)));\n",
       "    --sklearn-color-icon: #878787;\n",
       "  }\n",
       "}\n",
       "\n",
       "#sk-container-id-1 {\n",
       "  color: var(--sklearn-color-text);\n",
       "}\n",
       "\n",
       "#sk-container-id-1 pre {\n",
       "  padding: 0;\n",
       "}\n",
       "\n",
       "#sk-container-id-1 input.sk-hidden--visually {\n",
       "  border: 0;\n",
       "  clip: rect(1px 1px 1px 1px);\n",
       "  clip: rect(1px, 1px, 1px, 1px);\n",
       "  height: 1px;\n",
       "  margin: -1px;\n",
       "  overflow: hidden;\n",
       "  padding: 0;\n",
       "  position: absolute;\n",
       "  width: 1px;\n",
       "}\n",
       "\n",
       "#sk-container-id-1 div.sk-dashed-wrapped {\n",
       "  border: 1px dashed var(--sklearn-color-line);\n",
       "  margin: 0 0.4em 0.5em 0.4em;\n",
       "  box-sizing: border-box;\n",
       "  padding-bottom: 0.4em;\n",
       "  background-color: var(--sklearn-color-background);\n",
       "}\n",
       "\n",
       "#sk-container-id-1 div.sk-container {\n",
       "  /* jupyter's `normalize.less` sets `[hidden] { display: none; }`\n",
       "     but bootstrap.min.css set `[hidden] { display: none !important; }`\n",
       "     so we also need the `!important` here to be able to override the\n",
       "     default hidden behavior on the sphinx rendered scikit-learn.org.\n",
       "     See: https://github.com/scikit-learn/scikit-learn/issues/21755 */\n",
       "  display: inline-block !important;\n",
       "  position: relative;\n",
       "}\n",
       "\n",
       "#sk-container-id-1 div.sk-text-repr-fallback {\n",
       "  display: none;\n",
       "}\n",
       "\n",
       "div.sk-parallel-item,\n",
       "div.sk-serial,\n",
       "div.sk-item {\n",
       "  /* draw centered vertical line to link estimators */\n",
       "  background-image: linear-gradient(var(--sklearn-color-text-on-default-background), var(--sklearn-color-text-on-default-background));\n",
       "  background-size: 2px 100%;\n",
       "  background-repeat: no-repeat;\n",
       "  background-position: center center;\n",
       "}\n",
       "\n",
       "/* Parallel-specific style estimator block */\n",
       "\n",
       "#sk-container-id-1 div.sk-parallel-item::after {\n",
       "  content: \"\";\n",
       "  width: 100%;\n",
       "  border-bottom: 2px solid var(--sklearn-color-text-on-default-background);\n",
       "  flex-grow: 1;\n",
       "}\n",
       "\n",
       "#sk-container-id-1 div.sk-parallel {\n",
       "  display: flex;\n",
       "  align-items: stretch;\n",
       "  justify-content: center;\n",
       "  background-color: var(--sklearn-color-background);\n",
       "  position: relative;\n",
       "}\n",
       "\n",
       "#sk-container-id-1 div.sk-parallel-item {\n",
       "  display: flex;\n",
       "  flex-direction: column;\n",
       "}\n",
       "\n",
       "#sk-container-id-1 div.sk-parallel-item:first-child::after {\n",
       "  align-self: flex-end;\n",
       "  width: 50%;\n",
       "}\n",
       "\n",
       "#sk-container-id-1 div.sk-parallel-item:last-child::after {\n",
       "  align-self: flex-start;\n",
       "  width: 50%;\n",
       "}\n",
       "\n",
       "#sk-container-id-1 div.sk-parallel-item:only-child::after {\n",
       "  width: 0;\n",
       "}\n",
       "\n",
       "/* Serial-specific style estimator block */\n",
       "\n",
       "#sk-container-id-1 div.sk-serial {\n",
       "  display: flex;\n",
       "  flex-direction: column;\n",
       "  align-items: center;\n",
       "  background-color: var(--sklearn-color-background);\n",
       "  padding-right: 1em;\n",
       "  padding-left: 1em;\n",
       "}\n",
       "\n",
       "\n",
       "/* Toggleable style: style used for estimator/Pipeline/ColumnTransformer box that is\n",
       "clickable and can be expanded/collapsed.\n",
       "- Pipeline and ColumnTransformer use this feature and define the default style\n",
       "- Estimators will overwrite some part of the style using the `sk-estimator` class\n",
       "*/\n",
       "\n",
       "/* Pipeline and ColumnTransformer style (default) */\n",
       "\n",
       "#sk-container-id-1 div.sk-toggleable {\n",
       "  /* Default theme specific background. It is overwritten whether we have a\n",
       "  specific estimator or a Pipeline/ColumnTransformer */\n",
       "  background-color: var(--sklearn-color-background);\n",
       "}\n",
       "\n",
       "/* Toggleable label */\n",
       "#sk-container-id-1 label.sk-toggleable__label {\n",
       "  cursor: pointer;\n",
       "  display: flex;\n",
       "  width: 100%;\n",
       "  margin-bottom: 0;\n",
       "  padding: 0.5em;\n",
       "  box-sizing: border-box;\n",
       "  text-align: center;\n",
       "  align-items: start;\n",
       "  justify-content: space-between;\n",
       "  gap: 0.5em;\n",
       "}\n",
       "\n",
       "#sk-container-id-1 label.sk-toggleable__label .caption {\n",
       "  font-size: 0.6rem;\n",
       "  font-weight: lighter;\n",
       "  color: var(--sklearn-color-text-muted);\n",
       "}\n",
       "\n",
       "#sk-container-id-1 label.sk-toggleable__label-arrow:before {\n",
       "  /* Arrow on the left of the label */\n",
       "  content: \"▸\";\n",
       "  float: left;\n",
       "  margin-right: 0.25em;\n",
       "  color: var(--sklearn-color-icon);\n",
       "}\n",
       "\n",
       "#sk-container-id-1 label.sk-toggleable__label-arrow:hover:before {\n",
       "  color: var(--sklearn-color-text);\n",
       "}\n",
       "\n",
       "/* Toggleable content - dropdown */\n",
       "\n",
       "#sk-container-id-1 div.sk-toggleable__content {\n",
       "  max-height: 0;\n",
       "  max-width: 0;\n",
       "  overflow: hidden;\n",
       "  text-align: left;\n",
       "  /* unfitted */\n",
       "  background-color: var(--sklearn-color-unfitted-level-0);\n",
       "}\n",
       "\n",
       "#sk-container-id-1 div.sk-toggleable__content.fitted {\n",
       "  /* fitted */\n",
       "  background-color: var(--sklearn-color-fitted-level-0);\n",
       "}\n",
       "\n",
       "#sk-container-id-1 div.sk-toggleable__content pre {\n",
       "  margin: 0.2em;\n",
       "  border-radius: 0.25em;\n",
       "  color: var(--sklearn-color-text);\n",
       "  /* unfitted */\n",
       "  background-color: var(--sklearn-color-unfitted-level-0);\n",
       "}\n",
       "\n",
       "#sk-container-id-1 div.sk-toggleable__content.fitted pre {\n",
       "  /* unfitted */\n",
       "  background-color: var(--sklearn-color-fitted-level-0);\n",
       "}\n",
       "\n",
       "#sk-container-id-1 input.sk-toggleable__control:checked~div.sk-toggleable__content {\n",
       "  /* Expand drop-down */\n",
       "  max-height: 200px;\n",
       "  max-width: 100%;\n",
       "  overflow: auto;\n",
       "}\n",
       "\n",
       "#sk-container-id-1 input.sk-toggleable__control:checked~label.sk-toggleable__label-arrow:before {\n",
       "  content: \"▾\";\n",
       "}\n",
       "\n",
       "/* Pipeline/ColumnTransformer-specific style */\n",
       "\n",
       "#sk-container-id-1 div.sk-label input.sk-toggleable__control:checked~label.sk-toggleable__label {\n",
       "  color: var(--sklearn-color-text);\n",
       "  background-color: var(--sklearn-color-unfitted-level-2);\n",
       "}\n",
       "\n",
       "#sk-container-id-1 div.sk-label.fitted input.sk-toggleable__control:checked~label.sk-toggleable__label {\n",
       "  background-color: var(--sklearn-color-fitted-level-2);\n",
       "}\n",
       "\n",
       "/* Estimator-specific style */\n",
       "\n",
       "/* Colorize estimator box */\n",
       "#sk-container-id-1 div.sk-estimator input.sk-toggleable__control:checked~label.sk-toggleable__label {\n",
       "  /* unfitted */\n",
       "  background-color: var(--sklearn-color-unfitted-level-2);\n",
       "}\n",
       "\n",
       "#sk-container-id-1 div.sk-estimator.fitted input.sk-toggleable__control:checked~label.sk-toggleable__label {\n",
       "  /* fitted */\n",
       "  background-color: var(--sklearn-color-fitted-level-2);\n",
       "}\n",
       "\n",
       "#sk-container-id-1 div.sk-label label.sk-toggleable__label,\n",
       "#sk-container-id-1 div.sk-label label {\n",
       "  /* The background is the default theme color */\n",
       "  color: var(--sklearn-color-text-on-default-background);\n",
       "}\n",
       "\n",
       "/* On hover, darken the color of the background */\n",
       "#sk-container-id-1 div.sk-label:hover label.sk-toggleable__label {\n",
       "  color: var(--sklearn-color-text);\n",
       "  background-color: var(--sklearn-color-unfitted-level-2);\n",
       "}\n",
       "\n",
       "/* Label box, darken color on hover, fitted */\n",
       "#sk-container-id-1 div.sk-label.fitted:hover label.sk-toggleable__label.fitted {\n",
       "  color: var(--sklearn-color-text);\n",
       "  background-color: var(--sklearn-color-fitted-level-2);\n",
       "}\n",
       "\n",
       "/* Estimator label */\n",
       "\n",
       "#sk-container-id-1 div.sk-label label {\n",
       "  font-family: monospace;\n",
       "  font-weight: bold;\n",
       "  display: inline-block;\n",
       "  line-height: 1.2em;\n",
       "}\n",
       "\n",
       "#sk-container-id-1 div.sk-label-container {\n",
       "  text-align: center;\n",
       "}\n",
       "\n",
       "/* Estimator-specific */\n",
       "#sk-container-id-1 div.sk-estimator {\n",
       "  font-family: monospace;\n",
       "  border: 1px dotted var(--sklearn-color-border-box);\n",
       "  border-radius: 0.25em;\n",
       "  box-sizing: border-box;\n",
       "  margin-bottom: 0.5em;\n",
       "  /* unfitted */\n",
       "  background-color: var(--sklearn-color-unfitted-level-0);\n",
       "}\n",
       "\n",
       "#sk-container-id-1 div.sk-estimator.fitted {\n",
       "  /* fitted */\n",
       "  background-color: var(--sklearn-color-fitted-level-0);\n",
       "}\n",
       "\n",
       "/* on hover */\n",
       "#sk-container-id-1 div.sk-estimator:hover {\n",
       "  /* unfitted */\n",
       "  background-color: var(--sklearn-color-unfitted-level-2);\n",
       "}\n",
       "\n",
       "#sk-container-id-1 div.sk-estimator.fitted:hover {\n",
       "  /* fitted */\n",
       "  background-color: var(--sklearn-color-fitted-level-2);\n",
       "}\n",
       "\n",
       "/* Specification for estimator info (e.g. \"i\" and \"?\") */\n",
       "\n",
       "/* Common style for \"i\" and \"?\" */\n",
       "\n",
       ".sk-estimator-doc-link,\n",
       "a:link.sk-estimator-doc-link,\n",
       "a:visited.sk-estimator-doc-link {\n",
       "  float: right;\n",
       "  font-size: smaller;\n",
       "  line-height: 1em;\n",
       "  font-family: monospace;\n",
       "  background-color: var(--sklearn-color-background);\n",
       "  border-radius: 1em;\n",
       "  height: 1em;\n",
       "  width: 1em;\n",
       "  text-decoration: none !important;\n",
       "  margin-left: 0.5em;\n",
       "  text-align: center;\n",
       "  /* unfitted */\n",
       "  border: var(--sklearn-color-unfitted-level-1) 1pt solid;\n",
       "  color: var(--sklearn-color-unfitted-level-1);\n",
       "}\n",
       "\n",
       ".sk-estimator-doc-link.fitted,\n",
       "a:link.sk-estimator-doc-link.fitted,\n",
       "a:visited.sk-estimator-doc-link.fitted {\n",
       "  /* fitted */\n",
       "  border: var(--sklearn-color-fitted-level-1) 1pt solid;\n",
       "  color: var(--sklearn-color-fitted-level-1);\n",
       "}\n",
       "\n",
       "/* On hover */\n",
       "div.sk-estimator:hover .sk-estimator-doc-link:hover,\n",
       ".sk-estimator-doc-link:hover,\n",
       "div.sk-label-container:hover .sk-estimator-doc-link:hover,\n",
       ".sk-estimator-doc-link:hover {\n",
       "  /* unfitted */\n",
       "  background-color: var(--sklearn-color-unfitted-level-3);\n",
       "  color: var(--sklearn-color-background);\n",
       "  text-decoration: none;\n",
       "}\n",
       "\n",
       "div.sk-estimator.fitted:hover .sk-estimator-doc-link.fitted:hover,\n",
       ".sk-estimator-doc-link.fitted:hover,\n",
       "div.sk-label-container:hover .sk-estimator-doc-link.fitted:hover,\n",
       ".sk-estimator-doc-link.fitted:hover {\n",
       "  /* fitted */\n",
       "  background-color: var(--sklearn-color-fitted-level-3);\n",
       "  color: var(--sklearn-color-background);\n",
       "  text-decoration: none;\n",
       "}\n",
       "\n",
       "/* Span, style for the box shown on hovering the info icon */\n",
       ".sk-estimator-doc-link span {\n",
       "  display: none;\n",
       "  z-index: 9999;\n",
       "  position: relative;\n",
       "  font-weight: normal;\n",
       "  right: .2ex;\n",
       "  padding: .5ex;\n",
       "  margin: .5ex;\n",
       "  width: min-content;\n",
       "  min-width: 20ex;\n",
       "  max-width: 50ex;\n",
       "  color: var(--sklearn-color-text);\n",
       "  box-shadow: 2pt 2pt 4pt #999;\n",
       "  /* unfitted */\n",
       "  background: var(--sklearn-color-unfitted-level-0);\n",
       "  border: .5pt solid var(--sklearn-color-unfitted-level-3);\n",
       "}\n",
       "\n",
       ".sk-estimator-doc-link.fitted span {\n",
       "  /* fitted */\n",
       "  background: var(--sklearn-color-fitted-level-0);\n",
       "  border: var(--sklearn-color-fitted-level-3);\n",
       "}\n",
       "\n",
       ".sk-estimator-doc-link:hover span {\n",
       "  display: block;\n",
       "}\n",
       "\n",
       "/* \"?\"-specific style due to the `<a>` HTML tag */\n",
       "\n",
       "#sk-container-id-1 a.estimator_doc_link {\n",
       "  float: right;\n",
       "  font-size: 1rem;\n",
       "  line-height: 1em;\n",
       "  font-family: monospace;\n",
       "  background-color: var(--sklearn-color-background);\n",
       "  border-radius: 1rem;\n",
       "  height: 1rem;\n",
       "  width: 1rem;\n",
       "  text-decoration: none;\n",
       "  /* unfitted */\n",
       "  color: var(--sklearn-color-unfitted-level-1);\n",
       "  border: var(--sklearn-color-unfitted-level-1) 1pt solid;\n",
       "}\n",
       "\n",
       "#sk-container-id-1 a.estimator_doc_link.fitted {\n",
       "  /* fitted */\n",
       "  border: var(--sklearn-color-fitted-level-1) 1pt solid;\n",
       "  color: var(--sklearn-color-fitted-level-1);\n",
       "}\n",
       "\n",
       "/* On hover */\n",
       "#sk-container-id-1 a.estimator_doc_link:hover {\n",
       "  /* unfitted */\n",
       "  background-color: var(--sklearn-color-unfitted-level-3);\n",
       "  color: var(--sklearn-color-background);\n",
       "  text-decoration: none;\n",
       "}\n",
       "\n",
       "#sk-container-id-1 a.estimator_doc_link.fitted:hover {\n",
       "  /* fitted */\n",
       "  background-color: var(--sklearn-color-fitted-level-3);\n",
       "}\n",
       "</style><div id=\"sk-container-id-1\" class=\"sk-top-container\"><div class=\"sk-text-repr-fallback\"><pre>LinearRegression()</pre><b>In a Jupyter environment, please rerun this cell to show the HTML representation or trust the notebook. <br />On GitHub, the HTML representation is unable to render, please try loading this page with nbviewer.org.</b></div><div class=\"sk-container\" hidden><div class=\"sk-item\"><div class=\"sk-estimator fitted sk-toggleable\"><input class=\"sk-toggleable__control sk-hidden--visually\" id=\"sk-estimator-id-1\" type=\"checkbox\" checked><label for=\"sk-estimator-id-1\" class=\"sk-toggleable__label fitted sk-toggleable__label-arrow\"><div><div>LinearRegression</div></div><div><a class=\"sk-estimator-doc-link fitted\" rel=\"noreferrer\" target=\"_blank\" href=\"https://scikit-learn.org/1.6/modules/generated/sklearn.linear_model.LinearRegression.html\">?<span>Documentation for LinearRegression</span></a><span class=\"sk-estimator-doc-link fitted\">i<span>Fitted</span></span></div></label><div class=\"sk-toggleable__content fitted\"><pre>LinearRegression()</pre></div> </div></div></div></div>"
      ],
      "text/plain": [
       "LinearRegression()"
      ]
     },
     "execution_count": 21,
     "metadata": {},
     "output_type": "execute_result"
    }
   ],
   "source": [
    "forecast.model "
   ]
  },
  {
   "cell_type": "markdown",
   "id": "92c1f0d6-3eb8-432c-bbbb-bd3bca108930",
   "metadata": {},
   "source": [
    "### `Predict`"
   ]
  },
  {
   "cell_type": "markdown",
   "id": "1ee4cd57-8966-4855-8510-20ff194bf360",
   "metadata": {},
   "source": [
    "`predict` function performs autoregressive inference, where the value predicted is then fed into the nex prediction. \n",
    "\n",
    "The number of predictions produced is defined by `n_predictions` and `x_test` is the previous k values prior to the ones we which to predict."
   ]
  },
  {
   "cell_type": "code",
   "execution_count": 22,
   "id": "0507ded8-95a3-4d78-ae70-f497a9857d4d",
   "metadata": {},
   "outputs": [],
   "source": [
    "predictions = forecast.predict(x_test, n_predictions = 5 ) "
   ]
  },
  {
   "cell_type": "code",
   "execution_count": 23,
   "id": "c755ad49-cf3c-483d-a947-4762c3b3f058",
   "metadata": {},
   "outputs": [
    {
     "data": {
      "text/plain": [
       "array([10.75677206, 10.94140867,  9.78077887, 11.23712326, 11.11402891])"
      ]
     },
     "execution_count": 23,
     "metadata": {},
     "output_type": "execute_result"
    }
   ],
   "source": [
    "predictions"
   ]
  },
  {
   "cell_type": "markdown",
   "id": "cd2929dc-ddf1-430a-97de-34d57cfb9485",
   "metadata": {},
   "source": [
    "### `visualise_predictions`"
   ]
  },
  {
   "cell_type": "code",
   "execution_count": 26,
   "id": "df8a1eb3-7a0f-436f-99df-65863550e850",
   "metadata": {},
   "outputs": [
    {
     "data": {
      "image/png": "[encoded data removed]",
      "text/plain": [
       "<Figure size 700x700 with 1 Axes>"
      ]
     },
     "metadata": {},
     "output_type": "display_data"
    }
   ],
   "source": [
    "fig,ax  = forecast.visualise_predictions(predictions = predictions, \n",
    "                                measure = measure,\n",
    "                                test_timestamps = test_timestamps, \n",
    "                                ground_truth = y_test ) "
   ]
  },
  {
   "cell_type": "markdown",
   "id": "05aba1e3-57ca-48ac-97b6-4845f94303b5",
   "metadata": {},
   "source": [
    "### `evaluate_forecast`"
   ]
  },
  {
   "cell_type": "markdown",
   "id": "4a0328c3-55a1-4a54-bd4c-81276f11c494",
   "metadata": {},
   "source": [
    "method which strings all of the previous methods together to to perform a full evaluation and plot a figure. The function takes a given measure which we want to forecast, a date range for training/eval, either split_size or split date and finally lag features which define the number of previous values we will be using to forecast future values."
   ]
  },
  {
   "cell_type": "code",
   "execution_count": 28,
   "id": "d8d4d76c-bb09-4f6e-abf5-0988641b3306",
   "metadata": {},
   "outputs": [
    {
     "data": {
      "image/png": "[encoded data removed]",
      "text/plain": [
       "<Figure size 700x700 with 1 Axes>"
      ]
     },
     "metadata": {},
     "output_type": "display_data"
    }
   ],
   "source": [
    "forecast.evaluate_forecast(measure, ['2025-06-01', '2025-06-07'], split_size = 10, lag_features = 5 ); "
   ]
  }
 ],
 "metadata": {
  "kernelspec": {
   "display_name": "Python 3 (ipykernel)",
   "language": "python",
   "name": "python3"
  },
  "language_info": {
   "codemirror_mode": {
    "name": "ipython",
    "version": 3
   },
   "file_extension": ".py",
   "mimetype": "text/x-python",
   "name": "python",
   "nbconvert_exporter": "python",
   "pygments_lexer": "ipython3",
   "version": "3.10.14"
  }
 },
 "nbformat": 4,
 "nbformat_minor": 5
}
