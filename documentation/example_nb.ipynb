{
 "cells": [
  {
   "cell_type": "markdown",
   "id": "b2983477",
   "metadata": {},
   "source": [
    "# Example Notebook explaining the base station Class "
   ]
  },
  {
   "cell_type": "markdown",
   "id": "5f43eb62",
   "metadata": {},
   "source": [
    "This notebook will explain the attributes and methods of the base station class which all of the specialised weather station classes inherit from. \n",
    "\n",
    "In particular it gives detail on how to create a station class given a `station_id`, how to retrieve all of the latest measurements from the station, plotting data, accessing station metadata such as latitude, longitude and flood status "
   ]
  },
  {
   "cell_type": "markdown",
   "id": "2b938626",
   "metadata": {},
   "source": [
    "To begin we must import `station` from our `flood_monitoring` package "
   ]
  },
  {
   "cell_type": "markdown",
   "id": "aeb3c9bf",
   "metadata": {},
   "source": [
    " Installing through github. "
   ]
  }
 ],
 "metadata": {
  "kernelspec": {
   "display_name": "Python 3",
   "language": "python",
   "name": "python3"
  },
  "language_info": {
   "codemirror_mode": {
    "name": "ipython",
    "version": 3
   },
   "file_extension": ".py",
   "mimetype": "text/x-python",
   "name": "python",
   "nbconvert_exporter": "python",
   "pygments_lexer": "ipython3",
   "version": "3.10.14"
  }
 },
 "nbformat": 4,
 "nbformat_minor": 5
}
