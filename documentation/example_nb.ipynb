{
 "cells": [
  {
   "cell_type": "markdown",
   "id": "b2983477",
   "metadata": {},
   "source": [
    "# Example Notebook explaining the base station Class "
   ]
  },
  {
   "cell_type": "markdown",
   "id": "5f43eb62",
   "metadata": {},
   "source": [
    "This notebook will explain the attributes and methods of the base station class which all of the specialised weather station classes inherit from. \n",
    "\n",
    "In particular it gives detail on how to create a station class given a `station_id`, how to retrieve all of the latest measurements from the station, plotting data, accessing station metadata such as latitude, longitude and flood status "
   ]
  },
  {
   "cell_type": "markdown",
   "id": "2b938626",
   "metadata": {},
   "source": [
    "To begin we must import `station` from our `flood_monitoring` package "
   ]
  },
  {
   "cell_type": "markdown",
   "id": "aeb3c9bf",
   "metadata": {},
   "source": [
    " Installing through github. "
   ]
  },
  {
   "cell_type": "code",
   "execution_count": null,
   "id": "61f0a8cf",
   "metadata": {},
   "outputs": [],
   "source": [
    "!pip install git+https://github.com/niv-en/flood-monitoring"
   ]
  },
  {
   "cell_type": "code",
   "execution_count": 2,
   "id": "a89a7c09",
   "metadata": {},
   "outputs": [],
   "source": [
    "from flood_monitoring import station"
   ]
  },
  {
   "cell_type": "markdown",
   "id": "466992e0",
   "metadata": {},
   "source": [
    "Initialiising a station type with a valid `station_id` "
   ]
  },
  {
   "cell_type": "code",
   "execution_count": 36,
   "id": "07512641",
   "metadata": {},
   "outputs": [],
   "source": [
    "test_station = station('F1906') "
   ]
  },
  {
   "cell_type": "markdown",
   "id": "31b93b43",
   "metadata": {},
   "source": [
    "## Accessing `station` attributes "
   ]
  },
  {
   "cell_type": "code",
   "execution_count": 4,
   "id": "6e2a6e8e",
   "metadata": {},
   "outputs": [
    {
     "data": {
      "text/plain": [
       "{'station_id': 'F1906',\n",
       " 'parameter': '',\n",
       " 'qualifier': None,\n",
       " '_station__lat': 54.080705,\n",
       " '_station__long': -2.024779,\n",
       " '_station__in_flood': False,\n",
       " 'measures': [{'qualifier': 'Stage',\n",
       "   'units': 'm',\n",
       "   'value_type': 'instantaneous',\n",
       "   'notation': 'F1906-level-stage-i-15_min-m'},\n",
       "  {'qualifier': 'Logged',\n",
       "   'units': 'm3/s',\n",
       "   'value_type': 'instantaneous',\n",
       "   'notation': 'F1906-flow-logged-i-15_min-m3_s'}],\n",
       " 'data': [0.237, None],\n",
       " 'timestamps': ['2025-05-19T16:45:00Z', None]}"
      ]
     },
     "execution_count": 4,
     "metadata": {},
     "output_type": "execute_result"
    }
   ],
   "source": [
    "vars(test_station)"
   ]
  },
  {
   "cell_type": "markdown",
   "id": "b05bef99",
   "metadata": {},
   "source": [
    "Latitude and Longitude "
   ]
  },
  {
   "cell_type": "code",
   "execution_count": 5,
   "id": "df569d9d",
   "metadata": {},
   "outputs": [
    {
     "data": {
      "text/plain": [
       "54.080705"
      ]
     },
     "execution_count": 5,
     "metadata": {},
     "output_type": "execute_result"
    }
   ],
   "source": [
    "test_station.latitude "
   ]
  },
  {
   "cell_type": "code",
   "execution_count": 6,
   "id": "a4b89056",
   "metadata": {},
   "outputs": [
    {
     "data": {
      "text/plain": [
       "-2.024779"
      ]
     },
     "execution_count": 6,
     "metadata": {},
     "output_type": "execute_result"
    }
   ],
   "source": [
    "test_station.longitude"
   ]
  },
  {
   "cell_type": "markdown",
   "id": "83cfdeca",
   "metadata": {},
   "source": [
    "These attributes cannot be changed manulaly and they do not have a `setter` method "
   ]
  },
  {
   "cell_type": "code",
   "execution_count": 7,
   "id": "4a684505",
   "metadata": {},
   "outputs": [
    {
     "ename": "AttributeError",
     "evalue": "can't set attribute 'longitude'",
     "output_type": "error",
     "traceback": [
      "\u001b[0;31m---------------------------------------------------------------------------\u001b[0m",
      "\u001b[0;31mAttributeError\u001b[0m                            Traceback (most recent call last)",
      "Cell \u001b[0;32mIn[7], line 1\u001b[0m\n\u001b[0;32m----> 1\u001b[0m \u001b[43mtest_station\u001b[49m\u001b[38;5;241;43m.\u001b[39;49m\u001b[43mlongitude\u001b[49m \u001b[38;5;241m=\u001b[39m \u001b[38;5;241m10\u001b[39m \n",
      "\u001b[0;31mAttributeError\u001b[0m: can't set attribute 'longitude'"
     ]
    }
   ],
   "source": [
    "test_station.longitude = 10 "
   ]
  },
  {
   "cell_type": "markdown",
   "id": "1c071363",
   "metadata": {},
   "source": [
    "## setting the `in_flood` status "
   ]
  },
  {
   "cell_type": "code",
   "execution_count": 8,
   "id": "73d8d142",
   "metadata": {},
   "outputs": [
    {
     "data": {
      "text/plain": [
       "False"
      ]
     },
     "execution_count": 8,
     "metadata": {},
     "output_type": "execute_result"
    }
   ],
   "source": [
    "test_station.in_flood"
   ]
  },
  {
   "cell_type": "markdown",
   "id": "895eb341",
   "metadata": {},
   "source": [
    "Given that it is a private attribute it cannot be manully updated, only through reinstantiating the class "
   ]
  },
  {
   "cell_type": "code",
   "execution_count": 10,
   "id": "3e40b4c8",
   "metadata": {},
   "outputs": [
    {
     "ename": "AttributeError",
     "evalue": "can't set attribute 'in_flood'",
     "output_type": "error",
     "traceback": [
      "\u001b[0;31m---------------------------------------------------------------------------\u001b[0m",
      "\u001b[0;31mAttributeError\u001b[0m                            Traceback (most recent call last)",
      "Cell \u001b[0;32mIn[10], line 1\u001b[0m\n\u001b[0;32m----> 1\u001b[0m \u001b[43mtest_station\u001b[49m\u001b[38;5;241;43m.\u001b[39;49m\u001b[43min_flood\u001b[49m \u001b[38;5;241m=\u001b[39m \u001b[38;5;28;01mTrue\u001b[39;00m\n",
      "\u001b[0;31mAttributeError\u001b[0m: can't set attribute 'in_flood'"
     ]
    }
   ],
   "source": [
    "test_station.in_flood = True"
   ]
  },
  {
   "cell_type": "markdown",
   "id": "1a8bfc48",
   "metadata": {},
   "source": [
    "## Accessing the measures assigned to each station "
   ]
  },
  {
   "cell_type": "markdown",
   "id": "f9704131",
   "metadata": {},
   "source": [
    "`meaures` contains a dictionary which stores all of the measures associated to a particular station"
   ]
  },
  {
   "cell_type": "code",
   "execution_count": 12,
   "id": "93285645",
   "metadata": {},
   "outputs": [
    {
     "data": {
      "text/plain": [
       "[{'qualifier': 'Stage',\n",
       "  'units': 'm',\n",
       "  'value_type': 'instantaneous',\n",
       "  'notation': 'F1906-level-stage-i-15_min-m'},\n",
       " {'qualifier': 'Logged',\n",
       "  'units': 'm3/s',\n",
       "  'value_type': 'instantaneous',\n",
       "  'notation': 'F1906-flow-logged-i-15_min-m3_s'}]"
      ]
     },
     "execution_count": 12,
     "metadata": {},
     "output_type": "execute_result"
    }
   ],
   "source": [
    "test_station.measures"
   ]
  },
  {
   "cell_type": "markdown",
   "id": "bc0f8afa",
   "metadata": {},
   "source": [
    "Similar to before this is allow a private attribute which can only be updated through re instantiating the object. "
   ]
  },
  {
   "cell_type": "markdown",
   "id": "3060733d",
   "metadata": {},
   "source": [
    "# Latest Readings "
   ]
  },
  {
   "cell_type": "markdown",
   "id": "6e1e7d4a",
   "metadata": {},
   "source": [
    "Inside of the `station` object the latest readings for all of the measures at the time of instantiation are also stored in `data` and `timestamps` \n"
   ]
  },
  {
   "cell_type": "code",
   "execution_count": 17,
   "id": "5a2c40e3",
   "metadata": {},
   "outputs": [
    {
     "data": {
      "text/plain": [
       "[0.237, None]"
      ]
     },
     "execution_count": 17,
     "metadata": {},
     "output_type": "execute_result"
    }
   ],
   "source": [
    "test_station.data "
   ]
  },
  {
   "cell_type": "code",
   "execution_count": 22,
   "id": "b447d2d6",
   "metadata": {},
   "outputs": [
    {
     "data": {
      "text/plain": [
       "['2025-05-19T16:45:00Z', None]"
      ]
     },
     "execution_count": 22,
     "metadata": {},
     "output_type": "execute_result"
    }
   ],
   "source": [
    "test_station.timestamps"
   ]
  },
  {
   "cell_type": "markdown",
   "id": "d7a9f246",
   "metadata": {},
   "source": [
    "The the order correlates with the `measures` attribute so all of these three can be zipped together "
   ]
  },
  {
   "cell_type": "code",
   "execution_count": 39,
   "id": "ecb0198c",
   "metadata": {},
   "outputs": [
    {
     "name": "stdout",
     "output_type": "stream",
     "text": [
      "measure :{'qualifier': 'Stage', 'units': 'm', 'value_type': 'instantaneous', 'notation': 'F1906-level-stage-i-15_min-m'}, value: 0.237 , time: 2025-05-19T17:00:00Z\n",
      "measure :{'qualifier': 'Logged', 'units': 'm3/s', 'value_type': 'instantaneous', 'notation': 'F1906-flow-logged-i-15_min-m3_s'}, value: None , time: None\n"
     ]
    }
   ],
   "source": [
    "for measure, value, time in zip(test_station.measures, test_station.data, test_station.timestamps):\n",
    "    print(f'measure :{measure}, value: {value} , time: {time}') "
   ]
  }
 ],
 "metadata": {
  "kernelspec": {
   "display_name": "Python 3",
   "language": "python",
   "name": "python3"
  },
  "language_info": {
   "codemirror_mode": {
    "name": "ipython",
    "version": 3
   },
   "file_extension": ".py",
   "mimetype": "text/x-python",
   "name": "python",
   "nbconvert_exporter": "python",
   "pygments_lexer": "ipython3",
   "version": "3.10.14"
  }
 },
 "nbformat": 4,
 "nbformat_minor": 5
}
