{
 "cells": [
  {
   "cell_type": "markdown",
   "id": "b2983477",
   "metadata": {},
   "source": [
    "# Example Notebook explaining the base station Class "
   ]
  },
  {
   "cell_type": "markdown",
   "id": "5f43eb62",
   "metadata": {},
   "source": [
    "This notebook will explain the attributes and methods of the base station class which all of the specialised weather station classes inherit from. \n",
    "\n",
    "In particular it gives detail on how to create a station class given a `station_id`, how to retrieve all of the latest measurements from the station, plotting data, accessing station metadata such as latitude, longitude and flood status "
   ]
  },
  {
   "cell_type": "markdown",
   "id": "2b938626",
   "metadata": {},
   "source": [
    "To begin we must import `station` from our `flood_monitoring` package "
   ]
  },
  {
   "cell_type": "markdown",
   "id": "aeb3c9bf",
   "metadata": {},
   "source": [
    " Installing through github. "
   ]
  },
  {
   "cell_type": "code",
   "execution_count": null,
   "id": "61f0a8cf",
   "metadata": {},
   "outputs": [],
   "source": [
    "!pip install git+https://github.com/niv-en/flood-monitoring"
   ]
  },
  {
   "cell_type": "code",
   "execution_count": 2,
   "id": "a89a7c09",
   "metadata": {},
   "outputs": [],
   "source": [
    "from flood_monitoring import station"
   ]
  },
  {
   "cell_type": "markdown",
   "id": "466992e0",
   "metadata": {},
   "source": [
    "Initialiising a station type with a valid `station_id` "
   ]
  },
  {
   "cell_type": "code",
   "execution_count": 36,
   "id": "07512641",
   "metadata": {},
   "outputs": [],
   "source": [
    "test_station = station('F1906') "
   ]
  },
  {
   "cell_type": "markdown",
   "id": "31b93b43",
   "metadata": {},
   "source": [
    "## Accessing `station` attributes "
   ]
  },
  {
   "cell_type": "markdown",
   "id": "59eed008",
   "metadata": {},
   "source": [
    "We can print all of the stations attributes using the `var` function "
   ]
  },
  {
   "cell_type": "code",
   "execution_count": 4,
   "id": "6e2a6e8e",
   "metadata": {},
   "outputs": [
    {
     "data": {
      "text/plain": [
       "{'station_id': 'F1906',\n",
       " 'parameter': '',\n",
       " 'qualifier': None,\n",
       " '_station__lat': 54.080705,\n",
       " '_station__long': -2.024779,\n",
       " '_station__in_flood': False,\n",
       " 'measures': [{'qualifier': 'Stage',\n",
       "   'units': 'm',\n",
       "   'value_type': 'instantaneous',\n",
       "   'notation': 'F1906-level-stage-i-15_min-m'},\n",
       "  {'qualifier': 'Logged',\n",
       "   'units': 'm3/s',\n",
       "   'value_type': 'instantaneous',\n",
       "   'notation': 'F1906-flow-logged-i-15_min-m3_s'}],\n",
       " 'data': [0.237, None],\n",
       " 'timestamps': ['2025-05-19T16:45:00Z', None]}"
      ]
     },
     "execution_count": 4,
     "metadata": {},
     "output_type": "execute_result"
    }
   ],
   "source": [
    "vars(test_station)"
   ]
  },
  {
   "cell_type": "markdown",
   "id": "c18d5a6e",
   "metadata": {},
   "source": [
    "###  `station_id` \n",
    "\n",
    " Unique reference which is used to identify each station\n",
    "\n",
    "###  `parameter`\n",
    "\n",
    " Used in conjustion with `qualifier` to define which type of measure station we want, given that `station` is the base class we can see that both are blank \n",
    "\n",
    "###  `_station__lat`  , `_station__long` \n",
    "\n",
    "display the longitude and latiduate and can be accessed by calling either `station.latitude`, `station.longitude` but have no setter method hence cannot be altered "
   ]
  },
  {
   "cell_type": "code",
   "execution_count": 40,
   "id": "1f80102f",
   "metadata": {},
   "outputs": [
    {
     "data": {
      "text/plain": [
       "(54.080705, -2.024779)"
      ]
     },
     "execution_count": 40,
     "metadata": {},
     "output_type": "execute_result"
    }
   ],
   "source": [
    "test_station.latitude, test_station.longitude "
   ]
  },
  {
   "cell_type": "markdown",
   "id": "e3debcb4",
   "metadata": {},
   "source": [
    "Attempting to set both the latitude and longitude "
   ]
  },
  {
   "cell_type": "code",
   "execution_count": 43,
   "id": "1f58ec39",
   "metadata": {},
   "outputs": [
    {
     "name": "stdout",
     "output_type": "stream",
     "text": [
      "cant set the latitude\n",
      "cant set the longitude\n"
     ]
    }
   ],
   "source": [
    "#attempting to manually set the latitude \n",
    "try:\n",
    "    test_station.latitude = 2\n",
    "except AttributeError:\n",
    "    print('cant set the latitude') \n",
    "\n",
    "#attemtping to manually set the longitude \n",
    "\n",
    "try:\n",
    "    test_station.longitude = 123\n",
    "\n",
    "except AttributeError:\n",
    "    print('cant set the longitude')\n"
   ]
  },
  {
   "cell_type": "markdown",
   "id": "ed66dae9",
   "metadata": {},
   "source": [
    "### `_station_in_flood` \n",
    "\n",
    "in a similar vain to both latitude and longitude, the stations in flood status can be accesed through `station.in_flood` but cannot be modified manually "
   ]
  },
  {
   "cell_type": "code",
   "execution_count": 44,
   "id": "89d4fdb8",
   "metadata": {},
   "outputs": [
    {
     "data": {
      "text/plain": [
       "False"
      ]
     },
     "execution_count": 44,
     "metadata": {},
     "output_type": "execute_result"
    }
   ],
   "source": [
    "test_station.in_flood"
   ]
  },
  {
   "cell_type": "code",
   "execution_count": 46,
   "id": "b95d13b3",
   "metadata": {},
   "outputs": [
    {
     "name": "stdout",
     "output_type": "stream",
     "text": [
      "cant set the in_flood status\n"
     ]
    }
   ],
   "source": [
    "try:\n",
    "    test_station.in_flood = False \n",
    "\n",
    "\n",
    "except AttributeError:\n",
    "\n",
    "    print('cant set the in_flood status')"
   ]
  },
  {
   "cell_type": "markdown",
   "id": "7f21373d",
   "metadata": {},
   "source": [
    "### `measures` "
   ]
  },
  {
   "cell_type": "markdown",
   "id": "6c1a14b3",
   "metadata": {},
   "source": [
    "meausres stores a list of dictionaries each of which describe a particular measure "
   ]
  },
  {
   "cell_type": "markdown",
   "id": "e379409f",
   "metadata": {},
   "source": [
    "### `data` "
   ]
  },
  {
   "cell_type": "markdown",
   "id": "8549f88a",
   "metadata": {},
   "source": [
    "data stores the value of the most recent measurement, for each of the stations measurements "
   ]
  },
  {
   "cell_type": "markdown",
   "id": "771bcaef",
   "metadata": {},
   "source": [
    "### `timestamps` "
   ]
  },
  {
   "cell_type": "markdown",
   "id": "b939bc7a",
   "metadata": {},
   "source": [
    "`timestamps` stores the timestamp of the most recent measurement which is stored in `data` , the order of these values are alligned with both `data` and `measures` "
   ]
  },
  {
   "cell_type": "markdown",
   "id": "f562bf7a",
   "metadata": {},
   "source": [
    "Given that `measures`, `data` and `timestamps` are all aligned it is easy to zip them together like so "
   ]
  },
  {
   "cell_type": "code",
   "execution_count": 49,
   "id": "bd9fbe0a",
   "metadata": {},
   "outputs": [
    {
     "name": "stdout",
     "output_type": "stream",
     "text": [
      "measure : {'qualifier': 'Stage', 'units': 'm', 'value_type': 'instantaneous', 'notation': 'F1906-level-stage-i-15_min-m'}, time : 2025-05-19T17:00:00Z, value : 0.237\n",
      "measure : {'qualifier': 'Logged', 'units': 'm3/s', 'value_type': 'instantaneous', 'notation': 'F1906-flow-logged-i-15_min-m3_s'}, time : None, value : None\n"
     ]
    }
   ],
   "source": [
    "for measure, time, value in zip(test_station.measures, test_station.timestamps, test_station.data):\n",
    "\n",
    "    print(f'measure : {measure}, time : {time}, value : {value }')"
   ]
  },
  {
   "cell_type": "markdown",
   "id": "2f9d3d11",
   "metadata": {},
   "source": [
    "## Using `stations` methods"
   ]
  },
  {
   "cell_type": "markdown",
   "id": "3e80119c",
   "metadata": {},
   "source": [
    "###  `get_latest_measurement()` "
   ]
  },
  {
   "cell_type": "markdown",
   "id": "7a658a43",
   "metadata": {},
   "source": [
    "Get latest measurement will retrieve all the latest measurement for all measures stored inside of `station.measures` "
   ]
  },
  {
   "cell_type": "code",
   "execution_count": 55,
   "id": "565d6084",
   "metadata": {},
   "outputs": [],
   "source": [
    "test_station = station('F1906')"
   ]
  },
  {
   "cell_type": "code",
   "execution_count": 57,
   "id": "de489dac",
   "metadata": {},
   "outputs": [
    {
     "data": {
      "text/plain": [
       "{'Stage': 0.237, 'Logged': None}"
      ]
     },
     "execution_count": 57,
     "metadata": {},
     "output_type": "execute_result"
    }
   ],
   "source": [
    "test_station.get_latest_measurement() "
   ]
  },
  {
   "cell_type": "markdown",
   "id": "30ed8b12",
   "metadata": {},
   "source": [
    "Here we can see it prints the measures notation as well its most recent value, and that the latest reading is not available for the flow measurement "
   ]
  },
  {
   "cell_type": "markdown",
   "id": "d4c0514d",
   "metadata": {},
   "source": [
    "### `plot_data` "
   ]
  },
  {
   "cell_type": "markdown",
   "id": "0e15f326",
   "metadata": {},
   "source": [
    "`plot_data`  draws from the `measures`, `timestamps`, `values` attributes of our `station` object. So it essentially plots the values for each of the stations measures at the time of its initialisation "
   ]
  },
  {
   "cell_type": "code",
   "execution_count": 58,
   "id": "835059b9",
   "metadata": {},
   "outputs": [
    {
     "data": {
      "image/png": "[encoded data removed]",
      "text/plain": [
       "<Figure size 640x480 with 2 Axes>"
      ]
     },
     "metadata": {},
     "output_type": "display_data"
    }
   ],
   "source": [
    "fig, ax = test_station.plot_data() "
   ]
  },
  {
   "cell_type": "markdown",
   "id": "417875d0",
   "metadata": {},
   "source": [
    "This needs some rejigging maybe use measure ID for everything because it is truly unique could be the move, need to sort out everything about teh upper wone still havinfed fied the issues,\n",
    "\n",
    "potentially think about removing measures if they dont have  a most recenet measurement "
   ]
  },
  {
   "cell_type": "markdown",
   "id": "cc777bea",
   "metadata": {},
   "source": [
    "### `plot_data_range()`"
   ]
  },
  {
   "cell_type": "markdown",
   "id": "c66b81ec",
   "metadata": {},
   "source": []
  }
 ],
 "metadata": {
  "kernelspec": {
   "display_name": "Python 3",
   "language": "python",
   "name": "python3"
  },
  "language_info": {
   "codemirror_mode": {
    "name": "ipython",
    "version": 3
   },
   "file_extension": ".py",
   "mimetype": "text/x-python",
   "name": "python",
   "nbconvert_exporter": "python",
   "pygments_lexer": "ipython3",
   "version": "3.10.14"
  }
 },
 "nbformat": 4,
 "nbformat_minor": 5
}
