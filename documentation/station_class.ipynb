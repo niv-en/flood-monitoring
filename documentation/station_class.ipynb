{
 "cells": [
  {
   "cell_type": "markdown",
   "id": "b2983477",
   "metadata": {},
   "source": [
    "# Example Notebook explaining the base station Class "
   ]
  },
  {
   "cell_type": "markdown",
   "id": "5f43eb62",
   "metadata": {},
   "source": [
    "This notebook will explain the attributes and methods of the base station class which all of the specialised weather station classes inherit from. \n",
    "\n",
    "In particular it gives detail on how to create a station class given a `station_id`, how to retrieve all of the latest measurements from the station, plotting data, accessing station metadata such as latitude, longitude and flood status "
   ]
  },
  {
   "cell_type": "markdown",
   "id": "740f9010-56a0-4dc8-a561-4c262f94bb0b",
   "metadata": {},
   "source": [
    "### `plot_data` "
   ]
  },
  {
   "cell_type": "code",
   "execution_count": 1,
   "id": "a89a7c09",
   "metadata": {},
   "outputs": [],
   "source": [
    "from flood_monitoring import station"
   ]
  },
  {
   "cell_type": "markdown",
   "id": "466992e0",
   "metadata": {},
   "source": [
    "Initialiising a station type with a valid `station_id` "
   ]
  },
  {
   "cell_type": "code",
   "execution_count": 2,
   "id": "07512641",
   "metadata": {},
   "outputs": [],
   "source": [
    "test_station = station('F1906') "
   ]
  },
  {
   "cell_type": "markdown",
   "id": "31b93b43",
   "metadata": {},
   "source": [
    "## Accessing `station` attributes "
   ]
  },
  {
   "cell_type": "markdown",
   "id": "59eed008",
   "metadata": {},
   "source": [
    "We can print all of the stations attributes using the `var` function "
   ]
  },
  {
   "cell_type": "code",
   "execution_count": 3,
   "id": "6e2a6e8e",
   "metadata": {},
   "outputs": [
    {
     "data": {
      "text/plain": [
       "{'station_id': 'F1906',\n",
       " 'parameter': '',\n",
       " 'qualifier': None,\n",
       " 'measure_type': '',\n",
       " '_station__lat': 54.080705,\n",
       " '_station__long': -2.024779,\n",
       " 'measures': [station.set_measures.<locals>.measure_dclass(notation='F1906-level-stage-i-15_min-m', parameter='level', qualifier='Stage', units='m', value_type=''),\n",
       "  station.set_measures.<locals>.measure_dclass(notation='F1906-flow-logged-i-15_min-m3_s', parameter='flow', qualifier='Logged', units='m3/s', value_type='')],\n",
       " 'data': [0.879, None],\n",
       " 'timestamps': ['2025-06-07T21:30:00Z', None]}"
      ]
     },
     "execution_count": 3,
     "metadata": {},
     "output_type": "execute_result"
    }
   ],
   "source": [
    "vars(test_station)"
   ]
  },
  {
   "cell_type": "markdown",
   "id": "c18d5a6e",
   "metadata": {},
   "source": [
    "###  `station_id` \n",
    "\n",
    " Unique reference which is used to identify each station\n",
    "\n",
    "###  `parameter`\n",
    "\n",
    " Used in conjustion with `qualifier` to define which type of measure station we want, given that `station` is the base class we can see that both are blank \n",
    "\n",
    "###  `_station__lat`  , `_station__long` \n",
    "\n",
    "display the longitude and latiduate and can be accessed by calling either `station.latitude`, `station.longitude` but have no setter method hence cannot be altered "
   ]
  },
  {
   "cell_type": "code",
   "execution_count": 4,
   "id": "1f80102f",
   "metadata": {},
   "outputs": [
    {
     "data": {
      "text/plain": [
       "(54.080705, -2.024779)"
      ]
     },
     "execution_count": 4,
     "metadata": {},
     "output_type": "execute_result"
    }
   ],
   "source": [
    "test_station.latitude, test_station.longitude "
   ]
  },
  {
   "cell_type": "markdown",
   "id": "e3debcb4",
   "metadata": {},
   "source": [
    "Attempting to set both the latitude and longitude "
   ]
  },
  {
   "cell_type": "code",
   "execution_count": 5,
   "id": "1f58ec39",
   "metadata": {},
   "outputs": [
    {
     "name": "stdout",
     "output_type": "stream",
     "text": [
      "cant set the latitude\n",
      "cant set the longitude\n"
     ]
    }
   ],
   "source": [
    "#attempting to manually set the latitude \n",
    "try:\n",
    "    test_station.latitude = 2\n",
    "except AttributeError:\n",
    "    print('cant set the latitude') \n",
    "\n",
    "#attemtping to manually set the longitude \n",
    "\n",
    "try:\n",
    "    test_station.longitude = 123\n",
    "\n",
    "except AttributeError:\n",
    "    print('cant set the longitude')\n"
   ]
  },
  {
   "cell_type": "markdown",
   "id": "7f21373d",
   "metadata": {},
   "source": [
    "### `measures` "
   ]
  },
  {
   "cell_type": "markdown",
   "id": "6c1a14b3",
   "metadata": {},
   "source": [
    "meausres stores a list of dictionaries each of which describe a particular measure "
   ]
  },
  {
   "cell_type": "markdown",
   "id": "e379409f",
   "metadata": {},
   "source": [
    "### `data` "
   ]
  },
  {
   "cell_type": "markdown",
   "id": "8549f88a",
   "metadata": {},
   "source": [
    "data stores the value of the most recent measurement, for each of the stations measurements "
   ]
  },
  {
   "cell_type": "markdown",
   "id": "771bcaef",
   "metadata": {},
   "source": [
    "### `timestamps` "
   ]
  },
  {
   "cell_type": "markdown",
   "id": "b939bc7a",
   "metadata": {},
   "source": [
    "`timestamps` stores the timestamp of the most recent measurement which is stored in `data` , the order of these values are alligned with both `data` and `measures` "
   ]
  },
  {
   "cell_type": "markdown",
   "id": "f562bf7a",
   "metadata": {},
   "source": [
    "Given that `measures`, `data` and `timestamps` are all aligned it is easy to zip them together like so "
   ]
  },
  {
   "cell_type": "code",
   "execution_count": 6,
   "id": "bd9fbe0a",
   "metadata": {},
   "outputs": [
    {
     "name": "stdout",
     "output_type": "stream",
     "text": [
      "measure : \n",
      "----Measure Summary----\n",
      "\n",
      "Measure ID : F1906-level-stage-i-15_min-m\n",
      "Parameter : level\n",
      "Qualifier : Stage\n",
      "Units : m\n",
      "Value Type : , time : 2025-06-07T21:30:00Z, value : 0.879\n",
      "measure : \n",
      "----Measure Summary----\n",
      "\n",
      "Measure ID : F1906-flow-logged-i-15_min-m3_s\n",
      "Parameter : flow\n",
      "Qualifier : Logged\n",
      "Units : m3/s\n",
      "Value Type : , time : None, value : None\n"
     ]
    }
   ],
   "source": [
    "for measure, time, value in zip(test_station.measures, test_station.timestamps, test_station.data):\n",
    "\n",
    "    print(f'measure : {measure}, time : {time}, value : {value }')"
   ]
  },
  {
   "cell_type": "markdown",
   "id": "2f9d3d11",
   "metadata": {},
   "source": [
    "## Using `stations` methods"
   ]
  },
  {
   "cell_type": "markdown",
   "id": "f559bc41",
   "metadata": {},
   "source": [
    "Despite stations methods being particularly designed to be called by the each of the measure station classes: `RiverLevel`, `RiverFlow`, `TidalLevel` and `Temperature`. They can still be called by the base station class with the exception that it will plot all measures available to a particular station rather than those for a particular measure such as river level etc. "
   ]
  },
  {
   "cell_type": "markdown",
   "id": "3e80119c",
   "metadata": {},
   "source": [
    "###  `get_latest_measurement()` "
   ]
  },
  {
   "cell_type": "markdown",
   "id": "7a658a43",
   "metadata": {},
   "source": [
    "Get latest measurement will retrieve all the latest measurement for all measures stored inside of `station.measures` "
   ]
  },
  {
   "cell_type": "code",
   "execution_count": 7,
   "id": "565d6084",
   "metadata": {},
   "outputs": [],
   "source": [
    "test_station = station('F1906')"
   ]
  },
  {
   "cell_type": "code",
   "execution_count": 8,
   "id": "de489dac",
   "metadata": {},
   "outputs": [
    {
     "data": {
      "text/plain": [
       "{'F1906-level-stage-i-15_min-m': 0.79, 'F1906-flow-logged-i-15_min-m3_s': None}"
      ]
     },
     "execution_count": 8,
     "metadata": {},
     "output_type": "execute_result"
    }
   ],
   "source": [
    "test_station.get_latest_measurement() "
   ]
  },
  {
   "cell_type": "markdown",
   "id": "30ed8b12",
   "metadata": {},
   "source": [
    "Here we can see it prints the measures notation as well its most recent value, and that the latest reading is not available for the flow measurement "
   ]
  },
  {
   "cell_type": "markdown",
   "id": "d4c0514d",
   "metadata": {},
   "source": [
    "### `plot_data` "
   ]
  },
  {
   "cell_type": "markdown",
   "id": "0e15f326",
   "metadata": {},
   "source": [
    "`plot_data`  draws from the `measures`, `timestamps`, `values` attributes of our `station` object. So it essentially plots all of the measures with non null values for each of the stations measures at the time of its initialisation, this can be seen as above `get_latest_measures` returns a dictionary with 2 meausres but given that one of them had a reading of `None` we exclude it from plotting "
   ]
  },
  {
   "cell_type": "code",
   "execution_count": 9,
   "id": "b64ad408",
   "metadata": {},
   "outputs": [],
   "source": [
    "import matplotlib.pyplot as plt "
   ]
  },
  {
   "cell_type": "code",
   "execution_count": 10,
   "id": "835059b9",
   "metadata": {},
   "outputs": [
    {
     "data": {
      "image/png": "[encoded data removed]",
      "text/plain": [
       "<Figure size 640x480 with 1 Axes>"
      ]
     },
     "metadata": {},
     "output_type": "display_data"
    }
   ],
   "source": [
    "fig, ax = test_station.plot_data() \n",
    "\n",
    "plt.show() "
   ]
  },
  {
   "cell_type": "markdown",
   "id": "cc777bea",
   "metadata": {},
   "source": [
    "### `plot_data_range()`"
   ]
  },
  {
   "cell_type": "markdown",
   "id": "c66b81ec",
   "metadata": {},
   "source": [
    "`plot_data_range()` unlike `plot_data()` actually requests information from the api. It retrieves all readings for all of the measures defined in  `station.measures` over the date range specified. Similar to `plot_data()` we only plot measuers with readings available and if no readings are available then an error will be raised. "
   ]
  },
  {
   "cell_type": "code",
   "execution_count": 11,
   "id": "7e5fd8ad",
   "metadata": {},
   "outputs": [
    {
     "name": "stderr",
     "output_type": "stream",
     "text": [
      "/var/folders/2b/758fcv4x1db1n7sbf0zmpkpw0000gn/T/ipykernel_76363/2535843310.py:3: UserWarning: FigureCanvasAgg is non-interactive, and thus cannot be shown\n",
      "  fig.show();\n"
     ]
    },
    {
     "data": {
      "image/png": "[encoded data removed]",
      "text/plain": [
       "<Figure size 640x480 with 1 Axes>"
      ]
     },
     "metadata": {},
     "output_type": "display_data"
    }
   ],
   "source": [
    "fig, ax = test_station.plot_data_range() \n",
    "fig.tight_layout() \n",
    "fig.show(); "
   ]
  }
 ],
 "metadata": {
  "kernelspec": {
   "display_name": "Python 3 (ipykernel)",
   "language": "python",
   "name": "python3"
  },
  "language_info": {
   "codemirror_mode": {
    "name": "ipython",
    "version": 3
   },
   "file_extension": ".py",
   "mimetype": "text/x-python",
   "name": "python",
   "nbconvert_exporter": "python",
   "pygments_lexer": "ipython3",
   "version": "3.10.14"
  }
 },
 "nbformat": 4,
 "nbformat_minor": 5
}
