{
 "cells": [
  {
   "cell_type": "markdown",
   "id": "b2983477",
   "metadata": {},
   "source": [
    "# Base Station Class "
   ]
  },
  {
   "cell_type": "markdown",
   "id": "5f43eb62",
   "metadata": {},
   "source": [
    "This notebook will explain the attributes and methods of the base station class which all of the measure station classes inherit from. e.g. `Temperature`.  \n",
    "\n",
    "It provides detail on the following: \n",
    "\n",
    "- How to instantiate a station object given a `station_id`\n",
    "\n",
    "- how to retrieve measurements from the API\n",
    "\n",
    "- Plotting readings\n",
    "\n",
    "- Accessing station metadata such as latitude, longitude. "
   ]
  },
  {
   "cell_type": "markdown",
   "id": "6c918e43-b270-479c-b17d-282ea68db753",
   "metadata": {},
   "source": [
    "## Instantiation "
   ]
  },
  {
   "cell_type": "code",
   "execution_count": 2,
   "id": "a89a7c09",
   "metadata": {},
   "outputs": [],
   "source": [
    "from flood_monitoring import station"
   ]
  },
  {
   "cell_type": "markdown",
   "id": "466992e0",
   "metadata": {},
   "source": [
    "Initialiising a station type with a valid `station_id` "
   ]
  },
  {
   "cell_type": "code",
   "execution_count": 3,
   "id": "07512641",
   "metadata": {},
   "outputs": [],
   "source": [
    "test_station = station('1412') "
   ]
  },
  {
   "cell_type": "markdown",
   "id": "31b93b43",
   "metadata": {},
   "source": [
    "## Accessing `station` attributes "
   ]
  },
  {
   "cell_type": "markdown",
   "id": "59eed008",
   "metadata": {},
   "source": [
    "We can print all of the stations attributes using the `var` function "
   ]
  },
  {
   "cell_type": "code",
   "execution_count": 4,
   "id": "6e2a6e8e",
   "metadata": {},
   "outputs": [
    {
     "data": {
      "text/plain": [
       "{'station_id': '1412',\n",
       " 'parameter': '',\n",
       " 'qualifier': None,\n",
       " 'measure_type': '',\n",
       " '_station__lat': 52.47914,\n",
       " '_station__long': -2.975413,\n",
       " 'measures': [FloodMonitoringMixin.measure_dclass(notation='1412-temperature-dry_bulb-i-1_h-deg_C', parameter='temperature', qualifier='Dry Bulb', units='deg C', value_type=''),\n",
       "  FloodMonitoringMixin.measure_dclass(notation='1412-rainfall-tipping_bucket_raingauge-t-15_min-mm', parameter='rainfall', qualifier='Tipping Bucket Raingauge', units='mm', value_type=''),\n",
       "  FloodMonitoringMixin.measure_dclass(notation='1412-temperature-dry_bulb-i-15_min-deg_C', parameter='temperature', qualifier='Dry Bulb', units='deg C', value_type='')],\n",
       " 'data': [11.9, 0.0, None],\n",
       " 'timestamps': ['2025-06-08T21:00:00Z', '2025-06-08T21:00:00Z', None]}"
      ]
     },
     "execution_count": 4,
     "metadata": {},
     "output_type": "execute_result"
    }
   ],
   "source": [
    "vars(test_station)"
   ]
  },
  {
   "cell_type": "markdown",
   "id": "c18d5a6e",
   "metadata": {},
   "source": [
    "###  `station_id` \n",
    "\n",
    " Unique reference which is used to identify each station\n",
    "\n",
    "###  `parameter`\n",
    "\n",
    " Used in conjustion with `qualifier` to define which type of measure station we want, given that `station` is the base class we can see that both are blank \n",
    "\n",
    "###  `_station__lat`  , `_station__long` \n",
    "\n",
    "display the longitude and latiduate and can be accessed by calling either `station.latitude`, `station.longitude` but have no setter method hence cannot be altered "
   ]
  },
  {
   "cell_type": "code",
   "execution_count": 5,
   "id": "1f80102f",
   "metadata": {},
   "outputs": [
    {
     "data": {
      "text/plain": [
       "(52.47914, -2.975413)"
      ]
     },
     "execution_count": 5,
     "metadata": {},
     "output_type": "execute_result"
    }
   ],
   "source": [
    "test_station.latitude, test_station.longitude "
   ]
  },
  {
   "cell_type": "markdown",
   "id": "e3debcb4",
   "metadata": {},
   "source": [
    "Attempting to set both the latitude and longitude "
   ]
  },
  {
   "cell_type": "code",
   "execution_count": 6,
   "id": "1f58ec39",
   "metadata": {},
   "outputs": [
    {
     "name": "stdout",
     "output_type": "stream",
     "text": [
      "cant set the latitude\n",
      "cant set the longitude\n"
     ]
    }
   ],
   "source": [
    "#attempting to manually set the latitude \n",
    "try:\n",
    "    test_station.latitude = 2\n",
    "except AttributeError:\n",
    "    print('cant set the latitude') \n",
    "\n",
    "#attemtping to manually set the longitude \n",
    "\n",
    "try:\n",
    "    test_station.longitude = 123\n",
    "\n",
    "except AttributeError:\n",
    "    print('cant set the longitude')\n"
   ]
  },
  {
   "cell_type": "markdown",
   "id": "7f21373d",
   "metadata": {},
   "source": [
    "### `measures` "
   ]
  },
  {
   "cell_type": "markdown",
   "id": "6c1a14b3",
   "metadata": {},
   "source": [
    "meausres stores a list of measures which each stored using a dataclass. There is a custom `__str__` provided in the data class which prints a summary of the measure. "
   ]
  },
  {
   "cell_type": "code",
   "execution_count": 7,
   "id": "6ebf4e0e-a5eb-4521-9dbe-e1a8e2417943",
   "metadata": {},
   "outputs": [
    {
     "name": "stdout",
     "output_type": "stream",
     "text": [
      "\n",
      "----Measure Summary----\n",
      "\n",
      "Measure ID : 1412-temperature-dry_bulb-i-1_h-deg_C\n",
      "Parameter : temperature\n",
      "Qualifier : Dry Bulb\n",
      "Units : deg C\n",
      "Value Type : \n"
     ]
    }
   ],
   "source": [
    "print(test_station.measures[0] ) "
   ]
  },
  {
   "cell_type": "markdown",
   "id": "e379409f",
   "metadata": {},
   "source": [
    "### `data` "
   ]
  },
  {
   "cell_type": "markdown",
   "id": "8549f88a",
   "metadata": {},
   "source": [
    "data stores the value of the most recent measurements for each of the stations measures. "
   ]
  },
  {
   "cell_type": "markdown",
   "id": "771bcaef",
   "metadata": {},
   "source": [
    "### `timestamps` "
   ]
  },
  {
   "cell_type": "markdown",
   "id": "b939bc7a",
   "metadata": {},
   "source": [
    "`timestamps` stores the timestamp of the most recent measurements which are stored in `data` , the order of these values are alligned with both `data` and `measures` "
   ]
  },
  {
   "cell_type": "markdown",
   "id": "2f9d3d11",
   "metadata": {},
   "source": [
    "## Using `stations` methods"
   ]
  },
  {
   "cell_type": "markdown",
   "id": "f559bc41",
   "metadata": {},
   "source": [
    "Despite stations methods being particularly designed to be called by the each of the measure station classes: `RiverLevel`, `RiverFlow`, `TidalLevel` and `Temperature`. They can still be called by the base station class with the exception that it will plot all measures available to a particular station rather than those for a particular measure such as river level etc. "
   ]
  },
  {
   "cell_type": "markdown",
   "id": "3e80119c",
   "metadata": {},
   "source": [
    "###  `get_latest_measurement()` "
   ]
  },
  {
   "cell_type": "markdown",
   "id": "7a658a43",
   "metadata": {},
   "source": [
    "Get latest measurement will retrieve all the latest measurement for all measures stored inside of `station.measures` "
   ]
  },
  {
   "cell_type": "code",
   "execution_count": 8,
   "id": "565d6084",
   "metadata": {},
   "outputs": [],
   "source": [
    "test_station = station('1412')"
   ]
  },
  {
   "cell_type": "code",
   "execution_count": 9,
   "id": "de489dac",
   "metadata": {},
   "outputs": [
    {
     "data": {
      "text/plain": [
       "{'1412-temperature-dry_bulb-i-1_h-deg_C': 7.9,\n",
       " '1412-rainfall-tipping_bucket_raingauge-t-15_min-mm': 0.0,\n",
       " '1412-temperature-dry_bulb-i-15_min-deg_C': None}"
      ]
     },
     "execution_count": 9,
     "metadata": {},
     "output_type": "execute_result"
    }
   ],
   "source": [
    "test_station.get_latest_measurement() "
   ]
  },
  {
   "cell_type": "markdown",
   "id": "30ed8b12",
   "metadata": {},
   "source": [
    "Here we can see it prints the measures notation as well its most recent value, and that the latest reading is not available for the flow measurement "
   ]
  },
  {
   "cell_type": "markdown",
   "id": "d4c0514d",
   "metadata": {},
   "source": [
    "### `plot_data` "
   ]
  },
  {
   "cell_type": "markdown",
   "id": "0e15f326",
   "metadata": {},
   "source": [
    "`plot_data`  draws from the `measures`, `timestamps`, `values` attributes of our `station` object. It plots all of the measures with non null values at the point of initalisation. "
   ]
  },
  {
   "cell_type": "code",
   "execution_count": 12,
   "id": "b64ad408",
   "metadata": {},
   "outputs": [],
   "source": [
    "import matplotlib.pyplot as plt "
   ]
  },
  {
   "cell_type": "code",
   "execution_count": 13,
   "id": "835059b9",
   "metadata": {},
   "outputs": [
    {
     "data": {
      "image/png": "[encoded data removed]",
      "text/plain": [
       "<Figure size 640x480 with 2 Axes>"
      ]
     },
     "metadata": {},
     "output_type": "display_data"
    }
   ],
   "source": [
    "fig, ax = test_station.plot_data() "
   ]
  },
  {
   "cell_type": "markdown",
   "id": "cc777bea",
   "metadata": {},
   "source": [
    "### `plot_data_range()`"
   ]
  },
  {
   "cell_type": "markdown",
   "id": "c66b81ec",
   "metadata": {},
   "source": [
    "`plot_data_range()` unlike `plot_data()` requests readings form the API. It retrieves all readings for all of the measures defined in  `station.measures` over the date range specified. Similar to `plot_data()` we only plot measures with readings available and if no readings are available then an error will be raised. "
   ]
  },
  {
   "cell_type": "code",
   "execution_count": 14,
   "id": "7e5fd8ad",
   "metadata": {},
   "outputs": [
    {
     "data": {
      "image/png": "[encoded data removed]",
      "text/plain": [
       "<Figure size 640x480 with 2 Axes>"
      ]
     },
     "metadata": {},
     "output_type": "display_data"
    }
   ],
   "source": [
    "fig, ax = test_station.plot_data_range(['2025-06-03', '2025-06-07']) \n",
    "fig.tight_layout() "
   ]
  },
  {
   "cell_type": "markdown",
   "id": "6117927e-7c2b-4d44-8276-146bdc9603cd",
   "metadata": {},
   "source": [
    "Though the methods shown are above are made to be called by the particular station type classes e.g. `RiverLevel` they can be called by the base `station` class which will result in all of the measures being plotted. "
   ]
  },
  {
   "cell_type": "markdown",
   "id": "428cc6a9-3ca8-4413-a332-0b7dac42764e",
   "metadata": {},
   "source": [
    "### `get_readings()` "
   ]
  },
  {
   "cell_type": "markdown",
   "id": "9b14817e-0aa5-4f36-a1ec-f0ada3934ef2",
   "metadata": {},
   "source": [
    "`get_readings` is a method which allows for readings for a particular measure to be retrieved from the API, its docstring is printed below: "
   ]
  },
  {
   "cell_type": "code",
   "execution_count": 15,
   "id": "149a0e33-39fe-477c-bdcb-5e464c40085e",
   "metadata": {},
   "outputs": [
    {
     "name": "stdout",
     "output_type": "stream",
     "text": [
      "Help on function get_readings in module flood_monitoring.station:\n",
      "\n",
      "get_readings(self, measure_notation: str, date_range: list[datetime.datetime] | None = None, limit: int | None = None, csv: bool = False) -> dict | str\n",
      "    Creating a get readings helper funciton, which returns readings for a particular measure\n",
      "    provided a date_range and a record limit. Also with the option to return results as a csv for analysis \n",
      "    \n",
      "    Inputs: \n",
      "    \n",
      "            measure_notation [str] - id/notation of particular measure you wish to retrieve readings for \n",
      "            date_range [list]      - range of dates to retreive the readings for \n",
      "            limit [int]            - maximum number of readings returned\n",
      "            csv [bool]             - if True will return results of query in csv format otherwise JSON \n",
      "    \n",
      "    Output: \n",
      "            result [dict | str] - returns results as either a JSON object or a CSV string.\n",
      "\n"
     ]
    }
   ],
   "source": [
    "help(station.get_readings)"
   ]
  },
  {
   "cell_type": "markdown",
   "id": "5bd459db-f50b-437c-a13d-6301924b04cb",
   "metadata": {},
   "source": [
    "For example I will retrieve the temperature readings for the current day in csv format, for a particular measure. "
   ]
  },
  {
   "cell_type": "code",
   "execution_count": 24,
   "id": "4e9f2d6b-f4ab-4d37-8aa4-13a8a197c53e",
   "metadata": {},
   "outputs": [
    {
     "name": "stdout",
     "output_type": "stream",
     "text": [
      "retrieving readings for: 1412-temperature-dry_bulb-i-1_h-deg_C\n"
     ]
    }
   ],
   "source": [
    "measure_notation = test_station.measures[0].notation \n",
    "print(f'retrieving readings for: {measure_notation}' ) "
   ]
  },
  {
   "cell_type": "code",
   "execution_count": 25,
   "id": "9e884506-50ce-4ff9-b5fc-8e2794fa020c",
   "metadata": {},
   "outputs": [],
   "source": [
    "readings = test_station.get_readings(measure_notation = measure_notation, csv = True ) "
   ]
  },
  {
   "cell_type": "code",
   "execution_count": 26,
   "id": "6154ce37-5690-49e3-814a-c2492feec41b",
   "metadata": {},
   "outputs": [
    {
     "name": "stdout",
     "output_type": "stream",
     "text": [
      "dateTime,measure,value\n",
      "2025-06-08T00:00:00Z,http://environment.data.gov.uk/flood-monitoring/id/measures/1412-temperature-dry_bulb-i-1_h-deg_C,7.9\n",
      "2025-06-08T01:00:00Z,http://environment.data.gov.uk/flood-monitoring/id/measures/1412-temperature-dry_bulb-i-1_h-deg_C,8.0\n",
      "2025-06-08T02:00:00Z,http://environment.data.gov.uk/flood-monitoring/id/measures/1412-temperature-dry_bulb-i-1_h-deg_C,7.6\n",
      "2025-06-08T03:00:00Z,http://environment.data.gov.uk/flood-monitoring/id/measures/1412-temperature-dry_bulb-i-1_h-deg_C,7.8\n",
      "2025-06-08T04:00:00Z,http://environment.data.gov.uk/flood-monitoring/id/measures/1412-temperature-dry_bulb-i-1_h-deg_C,7.7\n",
      "2025-06-08T05:00:00Z,http://environment.data.gov.uk/flood-monitoring/id/measures/1412-temperature-dry_bulb-i-1_h-deg_C,7.9\n",
      "2025-06-08T06:00:00Z,http://environment.data.gov.uk/flood-monitoring/id/measures/1412-temperature-dry_bulb-i-1_h-deg_C,8.6\n",
      "2025-06-08T07:00:00Z,http://environment.data.gov.uk/flood-monitoring/id/measures/1412-temperature-dry_bulb-i-1_h-deg_C,9.7\n",
      "2025-06-08T08:00:00Z,http://environment.data.gov.uk/flood-monitoring/id/measures/1412-temperature-dry_bulb-i-1_h-deg_C,10.7\n",
      "2025-06-08T09:00:00Z,http://environment.data.gov.uk/flood-monitoring/id/measures/1412-temperature-dry_bulb-i-1_h-deg_C,11.6\n",
      "2025-06-08T10:00:00Z,http://environment.data.gov.uk/flood-monitoring/id/measures/1412-temperature-dry_bulb-i-1_h-deg_C,12.7\n",
      "2025-06-08T11:00:00Z,http://environment.data.gov.uk/flood-monitoring/id/measures/1412-temperature-dry_bulb-i-1_h-deg_C,11.6\n",
      "2025-06-08T12:00:00Z,http://environment.data.gov.uk/flood-monitoring/id/measures/1412-temperature-dry_bulb-i-1_h-deg_C,12.4\n",
      "2025-06-08T13:00:00Z,http://environment.data.gov.uk/flood-monitoring/id/measures/1412-temperature-dry_bulb-i-1_h-deg_C,13.0\n",
      "2025-06-08T14:00:00Z,http://environment.data.gov.uk/flood-monitoring/id/measures/1412-temperature-dry_bulb-i-1_h-deg_C,12.5\n",
      "2025-06-08T15:00:00Z,http://environment.data.gov.uk/flood-monitoring/id/measures/1412-temperature-dry_bulb-i-1_h-deg_C,13.8\n",
      "2025-06-08T16:00:00Z,http://environment.data.gov.uk/flood-monitoring/id/measures/1412-temperature-dry_bulb-i-1_h-deg_C,14.0\n",
      "2025-06-08T17:00:00Z,http://environment.data.gov.uk/flood-monitoring/id/measures/1412-temperature-dry_bulb-i-1_h-deg_C,13.3\n",
      "2025-06-08T18:00:00Z,http://environment.data.gov.uk/flood-monitoring/id/measures/1412-temperature-dry_bulb-i-1_h-deg_C,12.9\n",
      "2025-06-08T19:00:00Z,http://environment.data.gov.uk/flood-monitoring/id/measures/1412-temperature-dry_bulb-i-1_h-deg_C,12.5\n",
      "2025-06-08T20:00:00Z,http://environment.data.gov.uk/flood-monitoring/id/measures/1412-temperature-dry_bulb-i-1_h-deg_C,12.1\n",
      "2025-06-08T21:00:00Z,http://environment.data.gov.uk/flood-monitoring/id/measures/1412-temperature-dry_bulb-i-1_h-deg_C,11.9\n",
      "\n"
     ]
    }
   ],
   "source": [
    "print(readings) "
   ]
  }
 ],
 "metadata": {
  "kernelspec": {
   "display_name": "Python 3 (ipykernel)",
   "language": "python",
   "name": "python3"
  },
  "language_info": {
   "codemirror_mode": {
    "name": "ipython",
    "version": 3
   },
   "file_extension": ".py",
   "mimetype": "text/x-python",
   "name": "python",
   "nbconvert_exporter": "python",
   "pygments_lexer": "ipython3",
   "version": "3.10.14"
  }
 },
 "nbformat": 4,
 "nbformat_minor": 5
}
