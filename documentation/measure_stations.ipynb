{
 "cells": [
  {
   "cell_type": "markdown",
   "id": "aee7ac25",
   "metadata": {},
   "source": [
    "# Example notebook for the measure station classes"
   ]
  },
  {
   "cell_type": "markdown",
   "id": "d4a1026c",
   "metadata": {},
   "source": [
    "Currently there are 4 subclasses which inherit and extend the functionality of the base `station` class, which are `RiverLevel` , `RiverFlow`, `TidalLevel` and `Temperature`. Each of these classes are intialised in a simlar way to station with the exception that they only store a subset of the measures available at a station which are releveant to that particular station type. "
   ]
  },
  {
   "cell_type": "markdown",
   "id": "2f5199d7",
   "metadata": {},
   "source": [
    "## `TidalLevel` "
   ]
  },
  {
   "cell_type": "code",
   "execution_count": 4,
   "id": "cc80dd9f",
   "metadata": {},
   "outputs": [],
   "source": [
    "from flood_monitoring import TidalLevel, station "
   ]
  },
  {
   "cell_type": "code",
   "execution_count": 5,
   "id": "f462ce2b",
   "metadata": {},
   "outputs": [],
   "source": [
    "tidal_level_station = TidalLevel('E70024') \n",
    "station = station('E70024') "
   ]
  },
  {
   "cell_type": "markdown",
   "id": "9120b7ed",
   "metadata": {},
   "source": [
    "## Accessing `TidalLevel` attributes "
   ]
  },
  {
   "cell_type": "markdown",
   "id": "7d3389d8",
   "metadata": {},
   "source": [
    "Accessing all of the attributes using `vars`"
   ]
  },
  {
   "cell_type": "code",
   "execution_count": 6,
   "id": "8e5227f7",
   "metadata": {},
   "outputs": [
    {
     "data": {
      "text/plain": [
       "{'station_id': 'E70024',\n",
       " 'parameter': 'level',\n",
       " 'qualifier': ['Tidal Level'],\n",
       " 'measure_type': 'Tidal Level',\n",
       " '_station__lat': 52.47311,\n",
       " '_station__long': 1.75011,\n",
       " '_station__in_flood': False,\n",
       " 'measures': [{'qualifier': 'Tidal Level',\n",
       "   'units': 'm',\n",
       "   'value_type': 'mean',\n",
       "   'notation': 'E70024-level-tidal_level-Mean-15_min-m'}],\n",
       " 'data': [1.524],\n",
       " 'timestamps': ['2025-05-21T19:45:00Z']}"
      ]
     },
     "execution_count": 6,
     "metadata": {},
     "output_type": "execute_result"
    }
   ],
   "source": [
    "vars(tidal_level_station)"
   ]
  },
  {
   "cell_type": "markdown",
   "id": "e9a71126",
   "metadata": {},
   "source": [
    "Here we can see that our `TidalLevel` object stores all of the same attributes when compared to the base `station` object, with the only difference being that our `TidalLevel` object will only store measures related to the tidal level and a `station` object may measure the tidal level, temperature etc. "
   ]
  },
  {
   "cell_type": "markdown",
   "id": "c381a7d8",
   "metadata": {},
   "source": [
    "##  calling methods inherited from `station` "
   ]
  },
  {
   "cell_type": "markdown",
   "id": "55859e93",
   "metadata": {},
   "source": [
    "TidalLevel inherts 3 methods from the base `station` class which are `get_latest_measurement`, `plot_data()` and `plot_data_range()` which are all described in the `station` class notebook. "
   ]
  },
  {
   "cell_type": "markdown",
   "id": "275761f7",
   "metadata": {},
   "source": [
    "###  `get_latest_measurement()` "
   ]
  },
  {
   "cell_type": "markdown",
   "id": "f05ebc7a",
   "metadata": {},
   "source": [
    "Get latest measurement will retrieve all the latest measurement for all measures stored inside of `station.measures` "
   ]
  },
  {
   "cell_type": "code",
   "execution_count": 7,
   "id": "35579943",
   "metadata": {},
   "outputs": [
    {
     "data": {
      "text/plain": [
       "{'E70024-level-tidal_level-Mean-15_min-m': 1.524}"
      ]
     },
     "execution_count": 7,
     "metadata": {},
     "output_type": "execute_result"
    }
   ],
   "source": [
    "tidal_level_station.get_latest_measurement() "
   ]
  },
  {
   "cell_type": "markdown",
   "id": "53187ff0",
   "metadata": {},
   "source": [
    "Here we can see it prints the measures notation as well its most recent value. "
   ]
  },
  {
   "cell_type": "markdown",
   "id": "b5d249b6",
   "metadata": {},
   "source": [
    "### `plot_data` "
   ]
  },
  {
   "cell_type": "markdown",
   "id": "32b34f9a",
   "metadata": {},
   "source": [
    "`plot_data`  draws from the `measures`, `timestamps`, `values` attributes of our `station` object. So it essentially plots all of the measures with non null values for each of the stations measures at the time of its initialisation, this can be seen as above `get_latest_measures` returns a dictionary with 2 meausres but given that one of them had a reading of `None` we exclude it from plotting "
   ]
  },
  {
   "cell_type": "code",
   "execution_count": 8,
   "id": "29ef6440",
   "metadata": {},
   "outputs": [
    {
     "name": "stderr",
     "output_type": "stream",
     "text": [
      "/var/folders/2b/758fcv4x1db1n7sbf0zmpkpw0000gn/T/ipykernel_75378/4251961421.py:3: UserWarning: FigureCanvasAgg is non-interactive, and thus cannot be shown\n",
      "  fig.show();\n"
     ]
    },
    {
     "data": {
      "image/png": "[encoded data removed]",
      "text/plain": [
       "<Figure size 640x480 with 1 Axes>"
      ]
     },
     "metadata": {},
     "output_type": "display_data"
    }
   ],
   "source": [
    "fig, ax = tidal_level_station.plot_data() \n",
    "\n",
    "fig.show(); "
   ]
  },
  {
   "cell_type": "markdown",
   "id": "eb7c96b6",
   "metadata": {},
   "source": [
    "When comparing this plot to th equiavlent plot we can see that the station type which is `Tidal Level` is listed at the botm which is missing for the generic station object. "
   ]
  },
  {
   "cell_type": "markdown",
   "id": "55e31969",
   "metadata": {},
   "source": []
  },
  {
   "cell_type": "markdown",
   "id": "7a6b1b17",
   "metadata": {},
   "source": [
    "### `plot_data_range()`"
   ]
  },
  {
   "cell_type": "markdown",
   "id": "795b38e1",
   "metadata": {},
   "source": [
    "`plot_data_range()` unlike `plot_data()` actually requests information from the api. It retrieves all readings for all of the measures defined in  `station.measures` over the date range specified. Similar to `plot_data()` we only plot measuers with readings available and if no readings are available then an error will be raised. "
   ]
  },
  {
   "cell_type": "code",
   "execution_count": 9,
   "id": "0d93e9ad",
   "metadata": {},
   "outputs": [
    {
     "name": "stderr",
     "output_type": "stream",
     "text": [
      "/var/folders/2b/758fcv4x1db1n7sbf0zmpkpw0000gn/T/ipykernel_75378/2198324366.py:3: UserWarning: FigureCanvasAgg is non-interactive, and thus cannot be shown\n",
      "  fig.show();\n"
     ]
    },
    {
     "data": {
      "image/png": "[encoded data removed]",
      "text/plain": [
       "<Figure size 640x480 with 1 Axes>"
      ]
     },
     "metadata": {},
     "output_type": "display_data"
    }
   ],
   "source": [
    "fig, ax = tidal_level_station.plot_data_range() \n",
    "fig.tight_layout() \n",
    "fig.show(); "
   ]
  },
  {
   "cell_type": "markdown",
   "id": "e920266f",
   "metadata": {},
   "source": [
    "Similar to `plot_data` the only difference between callling `plot_data_range()` with the generic station object and a particular measures tation subclass is that the the stations measure is printed at the top inside of the title. "
   ]
  },
  {
   "cell_type": "markdown",
   "id": "bfd026bd",
   "metadata": {},
   "source": [
    "## calling measure station specific methods "
   ]
  },
  {
   "cell_type": "markdown",
   "id": "4f6cfbf9",
   "metadata": {},
   "source": [
    "### `calculate_tidal_range()` "
   ]
  },
  {
   "cell_type": "markdown",
   "id": "0679a342",
   "metadata": {},
   "source": [
    "this is a method which extends the functionality of the `TidalLevel` station class, it takes in one optional arguement which is a date range which you wish the tidal range to be calculated over if this is not provided then the tidal range for the current day will be calculated. "
   ]
  },
  {
   "cell_type": "markdown",
   "id": "6933524f",
   "metadata": {},
   "source": [
    "calculating the tidal range for the current day "
   ]
  },
  {
   "cell_type": "code",
   "execution_count": 10,
   "id": "03262845",
   "metadata": {},
   "outputs": [
    {
     "data": {
      "text/plain": [
       "1.08"
      ]
     },
     "execution_count": 10,
     "metadata": {},
     "output_type": "execute_result"
    }
   ],
   "source": [
    "tidal_level_station.calculate_tidal_range() "
   ]
  },
  {
   "cell_type": "code",
   "execution_count": 11,
   "id": "d4deeaf1",
   "metadata": {},
   "outputs": [
    {
     "data": {
      "text/plain": [
       "1.84"
      ]
     },
     "execution_count": 11,
     "metadata": {},
     "output_type": "execute_result"
    }
   ],
   "source": [
    "tidal_level_station.calculate_tidal_range(('2025-05-10', '2025-05-16'))"
   ]
  },
  {
   "cell_type": "markdown",
   "id": "7bc50002",
   "metadata": {},
   "source": [
    "### `average_temp()`"
   ]
  },
  {
   "cell_type": "markdown",
   "id": "0e98c90c",
   "metadata": {},
   "source": [
    "This is a method which extends the functionality of the `Temperature` station class, similar to `calculate_tidal_range()` it takes one optional argumenet which is a date range and if this not specificed then the default date range is simply the current day"
   ]
  },
  {
   "cell_type": "markdown",
   "id": "e6d4d65e",
   "metadata": {},
   "source": [
    "Initialising a temperature station object "
   ]
  },
  {
   "cell_type": "code",
   "execution_count": 1,
   "id": "513d4d57",
   "metadata": {},
   "outputs": [],
   "source": [
    "from flood_monitoring import Temperature"
   ]
  },
  {
   "cell_type": "code",
   "execution_count": 2,
   "id": "16f82f0f",
   "metadata": {},
   "outputs": [],
   "source": [
    "temperature_station=Temperature('1412') "
   ]
  },
  {
   "cell_type": "markdown",
   "id": "21f8da4b",
   "metadata": {},
   "source": [
    "calculating the average temperature for the current day "
   ]
  },
  {
   "cell_type": "code",
   "execution_count": 3,
   "id": "72f99037",
   "metadata": {},
   "outputs": [
    {
     "data": {
      "text/plain": [
       "-0.34"
      ]
     },
     "execution_count": 3,
     "metadata": {},
     "output_type": "execute_result"
    }
   ],
   "source": [
    "temperature_station.average_temp() "
   ]
  },
  {
   "cell_type": "markdown",
   "id": "9cfa74ec",
   "metadata": {},
   "source": [
    "calculating the average temperature over a date range "
   ]
  },
  {
   "cell_type": "code",
   "execution_count": null,
   "id": "5770bef8",
   "metadata": {},
   "outputs": [],
   "source": [
    "temperature_station.average_temp(('2025-05-14', '2025-05-17')) "
   ]
  }
 ],
 "metadata": {
  "kernelspec": {
   "display_name": ".venv",
   "language": "python",
   "name": "python3"
  },
  "language_info": {
   "codemirror_mode": {
    "name": "ipython",
    "version": 3
   },
   "file_extension": ".py",
   "mimetype": "text/x-python",
   "name": "python",
   "nbconvert_exporter": "python",
   "pygments_lexer": "ipython3",
   "version": "3.10.14"
  }
 },
 "nbformat": 4,
 "nbformat_minor": 5
}
